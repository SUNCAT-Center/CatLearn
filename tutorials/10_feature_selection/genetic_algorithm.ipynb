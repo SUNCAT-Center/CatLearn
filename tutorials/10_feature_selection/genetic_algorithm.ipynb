{
 "cells": [
  {
   "cell_type": "markdown",
   "metadata": {},
   "source": [
    "# Feature Selection Genetic Algorithm\n",
    "\n",
    "The principle behind the genetic algorithm for feature selection is relatively simple, the feature space is represented by a binary array. Features encoded with a one means that they are present in the optimized feature set, while a zero means they have been removed.\n",
    "\n",
    "## Setup"
   ]
  },
  {
   "cell_type": "code",
   "execution_count": 1,
   "metadata": {},
   "outputs": [],
   "source": [
    "import numpy as np\n",
    "\n",
    "from ase.ga.data import DataConnection\n",
    "\n",
    "from catlearn.api.ase_data_setup import get_unique, get_train\n",
    "from catlearn.featurize.setup import FeatureGenerator\n",
    "from catlearn.regression import GaussianProcess\n",
    "from catlearn.preprocess.feature_engineering import single_transform\n",
    "from catlearn.ga import GeneticAlgorithm"
   ]
  },
  {
   "cell_type": "markdown",
   "metadata": {},
   "source": [
    "## Data Generation\n",
    "\n",
    "To start with we import some data. For this tutorial, the data for alloyed nanoparticles are used."
   ]
  },
  {
   "cell_type": "code",
   "execution_count": 2,
   "metadata": {},
   "outputs": [],
   "source": [
    "# Connect ase atoms database.\n",
    "gadb = DataConnection('../../data/gadb.db')\n",
    "\n",
    "# Get all relaxed candidates from the db file.\n",
    "all_cand = gadb.get_all_relaxed_candidates(use_extinct=False)"
   ]
  },
  {
   "cell_type": "markdown",
   "metadata": {},
   "source": [
    "We then split this data into some training data and a holdout test set."
   ]
  },
  {
   "cell_type": "code",
   "execution_count": 3,
   "metadata": {},
   "outputs": [],
   "source": [
    "testset = get_unique(atoms=all_cand, size=100, key='raw_score')\n",
    "\n",
    "trainset = get_train(atoms=all_cand, size=500, taken=testset['taken'],\n",
    "                     key='raw_score')\n",
    "\n",
    "trainval = trainset['target']\n",
    "testval = testset['target']"
   ]
  },
  {
   "cell_type": "markdown",
   "metadata": {},
   "source": [
    "Once the data is divided up, we then generate some feature sets. The eigenspectrum features are generated and then single transform engineering functions are used to expand the space slightly."
   ]
  },
  {
   "cell_type": "code",
   "execution_count": 4,
   "metadata": {},
   "outputs": [
    {
     "name": "stderr",
     "output_type": "stream",
     "text": [
      "100%|██████████| 500/500 [00:04<00:00, 106.47it/s]\n",
      "100%|██████████| 100/100 [00:00<00:00, 112.48it/s]\n"
     ]
    }
   ],
   "source": [
    "generator = FeatureGenerator(atom_types=[78, 79], nprocs=1)\n",
    "train_data = generator.return_vec(trainset['atoms'], [generator.eigenspectrum_vec])\n",
    "test_data = generator.return_vec(testset['atoms'], [generator.eigenspectrum_vec])\n",
    "\n",
    "train_data = single_transform(train_data)\n",
    "test_data = single_transform(test_data)"
   ]
  },
  {
   "cell_type": "markdown",
   "metadata": {},
   "source": [
    "## Baseline\n",
    "\n",
    "Initially, a GP is trained on all the features and the error calculated as a baseline."
   ]
  },
  {
   "cell_type": "code",
   "execution_count": 5,
   "metadata": {},
   "outputs": [
    {
     "name": "stdout",
     "output_type": "stream",
     "text": [
      "all features: 1.778\n"
     ]
    }
   ],
   "source": [
    "kdict = [\n",
    "    {\n",
    "        'type': 'gaussian', 'width': 1., 'scaling': 1.,\n",
    "        'dimension': 'single'\n",
    "        }\n",
    "    ]\n",
    "gp = GaussianProcess(train_fp=train_data,\n",
    "                     train_target=trainval,\n",
    "                     kernel_list=kdict,\n",
    "                     regularization=1e-2,\n",
    "                     optimize_hyperparameters=True,\n",
    "                     scale_data=True)\n",
    "\n",
    "pred = gp.predict(test_fp=test_data, test_target=testval,\n",
    "                  get_validation_error=True,\n",
    "                  get_training_error=True)\n",
    "\n",
    "score = pred['validation_error']['rmse_average']\n",
    "\n",
    "print('all features: {0:.3f}'.format(score))"
   ]
  },
  {
   "cell_type": "markdown",
   "metadata": {},
   "source": [
    "## Optimization\n",
    "\n",
    "To optimize the feature set, a prediction function is first defined. This will take a boolean array from the genetic algorithm, transform the feature set and test against the holdout data. The error is then calculated and returned for that set of features. The genetic algorithm will aim to maximize the \"fitness\" of a population of candidates; therefore, the negative of the average cost is returned in this example."
   ]
  },
  {
   "cell_type": "code",
   "execution_count": 6,
   "metadata": {},
   "outputs": [],
   "source": [
    "def fitf(train_features, train_targets, test_features, test_targets):\n",
    "    \"\"\"Define the fitness function for the GA.\"\"\"\n",
    "    kdict = [\n",
    "        {\n",
    "            'type': 'gaussian', 'width': 1.,\n",
    "            'scaling': 1., 'dimension': 'single'\n",
    "            }\n",
    "        ]\n",
    "    gp = GaussianProcess(train_fp=train_features,\n",
    "                         train_target=train_targets,\n",
    "                         kernel_list=kdict,\n",
    "                         regularization=1e-2,\n",
    "                         optimize_hyperparameters=True,\n",
    "                         scale_data=True)\n",
    "\n",
    "    pred = gp.predict(test_fp=test_features,\n",
    "                      test_target=test_targets,\n",
    "                      get_validation_error=True)\n",
    "\n",
    "    score = pred['validation_error']['rmse_average']\n",
    "\n",
    "    return -score"
   ]
  },
  {
   "cell_type": "markdown",
   "metadata": {},
   "source": [
    "Then the search can be run. The population size is set to 10 candidates and the number of dimensions equal to the total number of features."
   ]
  },
  {
   "cell_type": "code",
   "execution_count": null,
   "metadata": {},
   "outputs": [],
   "source": [
    "ga = GeneticAlgorithm(population_size=3,\n",
    "                      fit_func=fitf,\n",
    "                      features=train_data,\n",
    "                      targets=trainval, \n",
    "                      population=None,\n",
    "                      accuracy=5)\n",
    "\n",
    "ga.search(500, natural_selection=False, verbose=True, repeat=3)"
   ]
  },
  {
   "cell_type": "markdown",
   "metadata": {},
   "source": [
    "Once the search has finished, there will be a number of useful attributes attached to the class. The `ga.search()` function doesn't return anything, so this is the way we access the results. To start with we can look at the fitness for the final population."
   ]
  },
  {
   "cell_type": "code",
   "execution_count": 8,
   "metadata": {},
   "outputs": [
    {
     "name": "stdout",
     "output_type": "stream",
     "text": [
      "[-0.23435648 -0.2284494  -2.26661886 -1.45444585 -2.3851098  -0.88269489\n",
      " -0.18598297 -1.33642751 -2.34695595 -0.1856573  -0.19124355 -2.05970206\n",
      " -0.1988113  -0.44471318 -0.2615147  -2.10310048 -0.21128047 -2.09887183\n",
      " -0.43224291]\n"
     ]
    }
   ],
   "source": [
    "print(ga.fitness)"
   ]
  },
  {
   "cell_type": "markdown",
   "metadata": {},
   "source": [
    "The fitnesses returned are ordered from best to worst, corresponding to the same order at the results in the `population` attribute. This can be accessed and converted to a boolean array as follows."
   ]
  },
  {
   "cell_type": "code",
   "execution_count": 9,
   "metadata": {},
   "outputs": [
    {
     "name": "stdout",
     "output_type": "stream",
     "text": [
      "[[False False False ... False False  True]\n",
      " [False False False ...  True False False]\n",
      " [False False False ... False False False]\n",
      " ...\n",
      " [False  True False ... False False False]\n",
      " [False False False ... False False False]\n",
      " [False False False ... False False False]]\n"
     ]
    }
   ],
   "source": [
    "print(np.array(ga.population, dtype=np.bool))"
   ]
  },
  {
   "cell_type": "markdown",
   "metadata": {},
   "source": [
    "This can then be used to acquire the optimal set of features for further iterations of the model."
   ]
  },
  {
   "cell_type": "code",
   "execution_count": 10,
   "metadata": {},
   "outputs": [
    {
     "name": "stdout",
     "output_type": "stream",
     "text": [
      "(500, 102) (100, 102)\n"
     ]
    }
   ],
   "source": [
    "final_pop = np.array(ga.population, dtype=np.bool)\n",
    "\n",
    "optimized_train = train_data[:, final_pop[0]]\n",
    "optimized_test = test_data[:, final_pop[0]]\n",
    "\n",
    "print(np.shape(optimized_train), np.shape(optimized_test))"
   ]
  },
  {
   "cell_type": "markdown",
   "metadata": {},
   "source": [
    "## Conclusions\n",
    "\n",
    "It appears as though the genetic algorithm can aid in finding good feature sets upon which to train the model."
   ]
  }
 ],
 "metadata": {
  "kernelspec": {
   "display_name": "Python 3",
   "language": "python",
   "name": "python3"
  },
  "language_info": {
   "codemirror_mode": {
    "name": "ipython",
    "version": 3
   },
   "file_extension": ".py",
   "mimetype": "text/x-python",
   "name": "python",
   "nbconvert_exporter": "python",
   "pygments_lexer": "ipython3",
   "version": "3.6.7"
  }
 },
 "nbformat": 4,
 "nbformat_minor": 2
}
