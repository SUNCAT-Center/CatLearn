{
 "cells": [
  {
   "cell_type": "markdown",
   "metadata": {},
   "source": [
    "# Adsorbate Fingerprints Setup\n",
    "\n",
    "In this tutorial we will featurize adsorbates on slabs.\n",
    "\n",
    "For doing machine learning, we need numeric data in a matrix, where the rows represent data point or observations and columns represent the features or variables.\n",
    "\n",
    "CatLearn contains a simple and easily extendable module for converting atoms to data, which is introduced in the following."
   ]
  },
  {
   "cell_type": "code",
   "execution_count": 23,
   "metadata": {},
   "outputs": [],
   "source": [
    "# Import packages.\n",
    "import os\n",
    "import numpy as np\n",
    "\n",
    "import ase.io\n",
    "from ase.data import atomic_numbers, chemical_symbols\n",
    "from ase.build import fcc111, add_adsorbate\n",
    "from ase.constraints import FixAtoms\n",
    "from ase.visualize import view\n",
    "\n",
    "try:\n",
    "    import matplotlib.pyplot as plt\n",
    "    import seaborn as sns\n",
    "    import pandas as pd\n",
    "    plot = True\n",
    "except ImportError:\n",
    "    print('Seaborn module is needed for this tutorial.')\n",
    "\n",
    "# Plot setups.\n",
    "plt.rc('text', usetex=False)\n",
    "font = {'family': 'sans-serif',\n",
    "        # 'sans-serif':, 'Helvetica',\n",
    "        'style': 'normal',\n",
    "        'stretch': 'normal'}\n",
    "plt.rc('font', **font)\n",
    "plt.rc('axes', linewidth=2)\n",
    "plt.rc('figure')\n",
    "plt.rc('lines', markeredgewidth=0, markersize=8, linewidth=1)\n",
    "ticksize = 10\n",
    "plt.rc('xtick', labelsize=ticksize+2)\n",
    "plt.rc('ytick.major', size=4, width=1)\n",
    "plt.rc('ytick.minor', size=4, width=1)\n",
    "plt.rc('ytick', labelsize=ticksize+2)\n",
    "plt.rc('ytick.major', size=4, width=1)\n",
    "plt.rc('ytick.minor', size=4, width=1)"
   ]
  },
  {
   "cell_type": "markdown",
   "metadata": {},
   "source": [
    "### Generate some adsorbate/surface systems from ASE.\n",
    "\n",
    "We return the atoms objects in a list, which is the simplest format and easily transferable to CatLearn."
   ]
  },
  {
   "cell_type": "code",
   "execution_count": 24,
   "metadata": {},
   "outputs": [
    {
     "name": "stdout",
     "output_type": "stream",
     "text": [
      "63  atoms objects created.\n"
     ]
    }
   ],
   "source": [
    "\"\"\"Make a list of atoms objects.\"\"\"\n",
    "# Import default atomic radii.\n",
    "from catlearn.featurize.periodic_table_data import get_radius, default_catlearn_radius\n",
    "\n",
    "# Select elements for adsorbates and slabs.\n",
    "adsorbates = ['H', 'O', 'C', 'N', 'S', 'Cl', 'F']\n",
    "symbols = ['Ag', 'Au', 'Cu', 'Pt', 'Pd', 'Ir', 'Rh', 'Ni', 'Co']\n",
    "images = []\n",
    "for i, s in enumerate(symbols):\n",
    "\n",
    "    # Get atomic radius.\n",
    "    rs = get_radius(atomic_numbers[s])\n",
    "    a = 2 * rs * 2 ** 0.5\n",
    "\n",
    "    for ads in adsorbates:\n",
    "        # Create a slab.\n",
    "        atoms = fcc111(s, (2, 2, 3), a=a)\n",
    "        atoms.center(vacuum=6, axis=2)\n",
    "        \n",
    "        # Constrain the slab.\n",
    "        c_atoms = [a.index for a in atoms if\n",
    "                   a.z < atoms.cell[2, 2] / 2. + 0.1]\n",
    "        atoms.set_constraint(FixAtoms(c_atoms))\n",
    "\n",
    "        # Specify an adsorbate-surface bond distance.\n",
    "        h = (default_catlearn_radius(atomic_numbers[ads]) + rs) / 2 ** 0.5\n",
    "\n",
    "        # Adsorb.\n",
    "        add_adsorbate(atoms, ads, h, 'bridge')\n",
    "\n",
    "        # Make list of atoms objects.\n",
    "        images.append(atoms)\n",
    "print(len(images), ' atoms objects created.')"
   ]
  },
  {
   "cell_type": "markdown",
   "metadata": {},
   "source": [
    "Here we have our list of atoms stored in `images`.\n",
    "\n",
    "### Attach meta data automatically.\n",
    "\n",
    "The adsorbate fingerprinter generates data based on connectivity of atoms in the adsorbate/slab system. \n",
    "It therefore needs this connectivity metadata as intermediates between the atoms object and the fingerprint. A connectivity matrix can some times be slightly computationally time consuming to generate and therefore needs to be made only once.\n",
    "\n",
    "A list of raw atoms without the metadata can be feed through `autogen_info` to attach the connectivity matrix and metadata."
   ]
  },
  {
   "cell_type": "code",
   "execution_count": 26,
   "metadata": {},
   "outputs": [
    {
     "name": "stderr",
     "output_type": "stream",
     "text": [
      "100%|██████████| 63/63 [00:00<00:00, 60633.58it/s]\n",
      "63it [00:00, 123477.17it/s]\n"
     ]
    }
   ],
   "source": [
    "from catlearn.featurize.adsorbate_prep import autogen_info\n",
    "\n",
    "images = autogen_info(images)"
   ]
  },
  {
   "cell_type": "markdown",
   "metadata": {},
   "source": [
    "Now let's go ahead and generate our fingerprint matrix.\n",
    "\n",
    "First we instantiate the `FeatureGenerator` object and define the fingerprinting functions we want to call. These define what information we retrieve and include in our fingerprints."
   ]
  },
  {
   "cell_type": "code",
   "execution_count": 27,
   "metadata": {},
   "outputs": [],
   "source": [
    "from catlearn.featurize.setup import FeatureGenerator, default_fingerprinters\n",
    "\n",
    "# Instantiate the feature generator.\n",
    "fingerprint_generator = FeatureGenerator(nprocs=1)\n",
    "\n",
    "# We will choose two example feature sets.\n",
    "feature_functions = [# Average properties of atoms in the adsorption site.\n",
    "                     fingerprint_generator.mean_site,\n",
    "                     # A categorical encoding of which atoms are in the adsorbate.\n",
    "                     fingerprint_generator.bag_atoms_ads]"
   ]
  },
  {
   "cell_type": "markdown",
   "metadata": {},
   "source": [
    "There are many more fingerprint functions implemented in CatLearn, which you can see at\n",
    "https://catlearn.readthedocs.io/en/latest/catlearn.fingerprint.html\n",
    "\n",
    "Return the fingerprint matrix from atoms objects and feature_functions"
   ]
  },
  {
   "cell_type": "code",
   "execution_count": 28,
   "metadata": {},
   "outputs": [
    {
     "name": "stderr",
     "output_type": "stream",
     "text": [
      "  0%|          | 0/63 [00:00<?, ?it/s]/Users/jagt/Git-hub/CatLearn/catlearn/fingerprint/adsorbate.py:186: RuntimeWarning: Mean of empty slice\n",
      "  result = list(np.nanmean(dat, axis=0))\n",
      "100%|██████████| 63/63 [00:00<00:00, 1308.47it/s]\n"
     ]
    }
   ],
   "source": [
    "# Get the data.\n",
    "data_matrix = fingerprint_generator.return_vec(images, feature_functions)\n",
    "\n",
    "# Get a list of names of the features.\n",
    "feature_names = fingerprint_generator.return_names(feature_functions)"
   ]
  },
  {
   "cell_type": "markdown",
   "metadata": {},
   "source": [
    "We are done. The data matrix is now stored in the variable `data_matrix`.\n",
    "\n",
    "You can easily append your very own fingerprint like so:"
   ]
  },
  {
   "cell_type": "code",
   "execution_count": 29,
   "metadata": {},
   "outputs": [
    {
     "name": "stderr",
     "output_type": "stream",
     "text": [
      "  0%|          | 0/63 [00:00<?, ?it/s]/Users/jagt/Git-hub/CatLearn/catlearn/fingerprint/adsorbate.py:186: RuntimeWarning: Mean of empty slice\n",
      "  result = list(np.nanmean(dat, axis=0))\n",
      "100%|██████████| 63/63 [00:00<00:00, 1719.35it/s]\n"
     ]
    }
   ],
   "source": [
    "# Define a fingerprint function.\n",
    "def my_function(atoms=None):\n",
    "    \"\"\"Fingerprinter functions must accept an atoms object and return a list.\"\"\"\n",
    "    if atoms is None:\n",
    "        return ['my_feature']\n",
    "    else:\n",
    "        return [np.random.normal()]\n",
    "\n",
    "feature_functions = [# As above.\n",
    "                     fingerprint_generator.mean_site,\n",
    "                     fingerprint_generator.bag_atoms_ads,\n",
    "                     # Append a user defined function.\n",
    "                     my_function]\n",
    "\n",
    "# Get the data.\n",
    "data_matrix = fingerprint_generator.return_vec(images, feature_functions)\n",
    "\n",
    "# Get a list of names of the features.\n",
    "feature_names = fingerprint_generator.return_names(feature_functions)"
   ]
  },
  {
   "cell_type": "markdown",
   "metadata": {},
   "source": [
    "### Let's analyse the output.\n",
    "\n",
    "First lets see what features were returned by the `feature_functions`:"
   ]
  },
  {
   "cell_type": "code",
   "execution_count": 30,
   "metadata": {},
   "outputs": [
    {
     "name": "stdout",
     "output_type": "stream",
     "text": [
      "0 atomic_number_site_av\n",
      "1 atomic_volume_site_av\n",
      "2 boiling_point_site_av\n",
      "3 density_site_av\n",
      "4 dipole_polarizability_site_av\n",
      "5 electron_affinity_site_av\n",
      "6 group_id_site_av\n",
      "7 lattice_constant_site_av\n",
      "8 melting_point_site_av\n",
      "9 period_site_av\n",
      "10 vdw_radius_site_av\n",
      "11 covalent_radius_cordero_site_av\n",
      "12 en_allen_site_av\n",
      "13 atomic_weight_site_av\n",
      "14 atomic_radius_site_av\n",
      "15 heat_of_formation_site_av\n",
      "16 dft_bulk_modulus_site_av\n",
      "17 dft_density_site_av\n",
      "18 dbcenter_site_av\n",
      "19 dbfilling_site_av\n",
      "20 dbwidth_site_av\n",
      "21 dbskew_site_av\n",
      "22 dbkurt_site_av\n",
      "23 oxi_min_site_av\n",
      "24 oxi_med_site_av\n",
      "25 oxi_max_site_av\n",
      "26 sblock_site_av\n",
      "27 pblock_site_av\n",
      "28 dblock_site_av\n",
      "29 fblock_site_av\n",
      "30 ne_outer_site_av\n",
      "31 ne_s_site_av\n",
      "32 ne_p_site_av\n",
      "33 ne_d_site_av\n",
      "34 ne_f_site_av\n",
      "35 ionenergy_site_av\n",
      "36 ground_state_magmom_site_av\n",
      "37 bag_ads_H\n",
      "38 bag_ads_C\n",
      "39 bag_ads_N\n",
      "40 bag_ads_O\n",
      "41 bag_ads_F\n",
      "42 bag_ads_S\n",
      "43 bag_ads_Cl\n",
      "44 bag_ads_Co\n",
      "45 bag_ads_Ni\n",
      "46 bag_ads_Cu\n",
      "47 bag_ads_Rh\n",
      "48 bag_ads_Pd\n",
      "49 bag_ads_Ag\n",
      "50 bag_ads_Ir\n",
      "51 bag_ads_Pt\n",
      "52 bag_ads_Au\n",
      "53 my_feature\n"
     ]
    }
   ],
   "source": [
    "for l in range(len(feature_names)):\n",
    "    print(l, feature_names[l])"
   ]
  },
  {
   "cell_type": "markdown",
   "metadata": {},
   "source": [
    "Lets check one of the features"
   ]
  },
  {
   "cell_type": "code",
   "execution_count": 31,
   "metadata": {},
   "outputs": [
    {
     "data": {
      "text/plain": [
       "Text(0.5,0,'my_feature')"
      ]
     },
     "execution_count": 31,
     "metadata": {},
     "output_type": "execute_result"
    },
    {
     "data": {
      "image/png": "[encoded data removed]",
      "text/plain": [
       "<Figure size 432x288 with 1 Axes>"
      ]
     },
     "metadata": {
      "needs_background": "light"
     },
     "output_type": "display_data"
    }
   ],
   "source": [
    "descriptor_index = 53\n",
    "plt.hist(data_matrix[:, descriptor_index], bins=min([17, len(data_matrix)]), align='mid')\n",
    "plt.xlabel(feature_names[descriptor_index])"
   ]
  },
  {
   "cell_type": "markdown",
   "metadata": {},
   "source": [
    "Lets try and compare some of the features about atomic radii using violinplots."
   ]
  },
  {
   "cell_type": "code",
   "execution_count": 32,
   "metadata": {},
   "outputs": [
    {
     "name": "stdout",
     "output_type": "stream",
     "text": [
      "Plotting:\n",
      "10 vdw_radius_site_av\n",
      "11 covalent_radius_cordero_site_av\n",
      "14 atomic_radius_site_av\n"
     ]
    },
    {
     "data": {
      "image/png": "[encoded data removed]",
      "text/plain": [
       "<Figure size 1440x720 with 1 Axes>"
      ]
     },
     "metadata": {
      "needs_background": "light"
     },
     "output_type": "display_data"
    }
   ],
   "source": [
    "# Select some features to plot.\n",
    "selection = [10, 11, 14]\n",
    "\n",
    "# Plot selected of the feature distributions.\n",
    "plot_data = {}\n",
    "traint = np.transpose(data_matrix[:, selection])\n",
    "for i, j in zip(traint, selection):\n",
    "    plot_data[j] = i\n",
    "df = pd.DataFrame(plot_data)\n",
    "fig = plt.figure(figsize=(20, 10))\n",
    "ax = sns.violinplot(data=df, inner=None)\n",
    "plt.title('Feature distributions', fontsize=20)\n",
    "plt.xlabel('Feature No.', fontsize=20)\n",
    "plt.ylabel('Distribution.', fontsize=20)\n",
    "\n",
    "string = 'Plotting:'\n",
    "for s in selection:\n",
    "    string += '\\n' + str(s) + ' ' + feature_names[s]\n",
    "print(string)"
   ]
  },
  {
   "cell_type": "markdown",
   "metadata": {},
   "source": [
    "### Clean data"
   ]
  },
  {
   "cell_type": "code",
   "execution_count": 33,
   "metadata": {},
   "outputs": [],
   "source": [
    "from catlearn.preprocess.clean_data import clean_infinite, clean_variance\n",
    "\n",
    "# Get rid of NaN's and Inf's\n",
    "finite_data = clean_infinite(data_matrix, labels=feature_names)\n",
    "\n",
    "# Get rid of features with identical values in all rows.\n",
    "informative_data = clean_variance(finite_data['train'], labels=finite_data['labels'])\n",
    "\n",
    "# Get the data matrix and list of labels.\n",
    "training_data = informative_data['train']\n",
    "clean_features = informative_data['labels']"
   ]
  },
  {
   "cell_type": "markdown",
   "metadata": {},
   "source": [
    "### Correlations\n",
    "\n",
    "Do a correlation analysis of the data."
   ]
  },
  {
   "cell_type": "code",
   "execution_count": 34,
   "metadata": {},
   "outputs": [
    {
     "data": {
      "text/plain": [
       "Text(0,0.5,'Correlation')"
      ]
     },
     "execution_count": 34,
     "metadata": {},
     "output_type": "execute_result"
    },
    {
     "data": {
      "image/png": "[encoded data removed]",
      "text/plain": [
       "<Figure size 432x288 with 1 Axes>"
      ]
     },
     "metadata": {
      "needs_background": "light"
     },
     "output_type": "display_data"
    }
   ],
   "source": [
    "from catlearn.utilities.utilities import target_correlation, holdout_set\n",
    "\n",
    "# Get the correlation of all features with one selected feature.\n",
    "target_feature = 18\n",
    "target_corr = target_correlation(training_data, training_data[:, target_feature], correlation=['pearson'])\n",
    "plt.plot(list(range(np.shape(target_corr)[1])), np.abs(target_corr)[0, :], '-o')\n",
    "plt.xlabel(\"Feature No.\")\n",
    "plt.ylabel(\"Correlation\")"
   ]
  },
  {
   "cell_type": "code",
   "execution_count": 35,
   "metadata": {},
   "outputs": [
    {
     "name": "stdout",
     "output_type": "stream",
     "text": [
      "Highest correlation with dbcenter_site_av :\n",
      "\n",
      "18 dbcenter_site_av 1.0\n",
      "21 dbskew_site_av 0.7704728762315076\n",
      "1 atomic_volume_site_av 0.7045987552623123\n",
      "14 atomic_radius_site_av 0.6977168342869465\n",
      "6 group_id_site_av 0.6490589948909845\n",
      "17 dft_density_site_av 0.629425395491392\n",
      "16 dft_bulk_modulus_site_av 0.6060927718911279\n",
      "8 melting_point_site_av 0.5844646115762562\n",
      "22 oxi_min_site_av 0.5826136045416407\n",
      "12 en_allen_site_av 0.5810873299472212\n"
     ]
    }
   ],
   "source": [
    "corr_ordering = np.argsort(np.abs(target_corr)[0, :])[::-1]\n",
    "np.abs(target_corr)[0, corr_ordering]\n",
    "print('Highest correlation with', clean_features[target_feature], ':\\n')\n",
    "for i in range(10):\n",
    "    print(corr_ordering[i], clean_features[corr_ordering][i], np.abs(target_corr)[0, corr_ordering][i])"
   ]
  },
  {
   "cell_type": "code",
   "execution_count": 36,
   "metadata": {},
   "outputs": [
    {
     "data": {
      "text/plain": [
       "<matplotlib.axes._subplots.AxesSubplot at 0x11524d1d0>"
      ]
     },
     "execution_count": 36,
     "metadata": {},
     "output_type": "execute_result"
    },
    {
     "data": {
      "image/png": "[encoded data removed]",
      "text/plain": [
       "<Figure size 432x288 with 2 Axes>"
      ]
     },
     "metadata": {
      "needs_background": "light"
     },
     "output_type": "display_data"
    }
   ],
   "source": [
    "# Get correlation of all features with all features.\n",
    "\n",
    "d = pd.DataFrame(training_data)\n",
    "corr = d.corr(method='pearson')\n",
    "sns.heatmap(corr.abs(), square=True)"
   ]
  },
  {
   "cell_type": "code",
   "execution_count": 37,
   "metadata": {},
   "outputs": [
    {
     "data": {
      "text/plain": [
       "array([9.39843392e-18, 5.52849054e-19, 1.65854716e-18, 5.52849054e-19,\n",
       "       3.53823394e-17])"
      ]
     },
     "execution_count": 37,
     "metadata": {},
     "output_type": "execute_result"
    }
   ],
   "source": [
    "# Look at a few selected feature pairs.\n",
    "np.abs(target_corr)[0, :][31:36]"
   ]
  },
  {
   "cell_type": "code",
   "execution_count": 38,
   "metadata": {},
   "outputs": [
    {
     "data": {
      "text/plain": [
       "array(['bag_ads_H', 'bag_ads_C', 'bag_ads_N', 'bag_ads_O', 'bag_ads_F'],\n",
       "      dtype='<U31')"
      ]
     },
     "execution_count": 38,
     "metadata": {},
     "output_type": "execute_result"
    }
   ],
   "source": [
    "# What are the labels of those.\n",
    "clean_features[31:36]"
   ]
  },
  {
   "cell_type": "markdown",
   "metadata": {},
   "source": [
    "### Analysis of meta data.\n",
    "\n",
    "Attached to the atoms objects, the fingerprinter needs information about the atoms belonging to the adsorbate. \n",
    "This was generate automatically by `autogen_info`, but we can take a closer look at how this meta data is formatted:"
   ]
  },
  {
   "cell_type": "code",
   "execution_count": 39,
   "metadata": {},
   "outputs": [
    {
     "data": {
      "text/plain": [
       "{'ads_atoms': [12],\n",
       " 'slab_atoms': [0, 1, 2, 3, 4, 5, 6, 7, 8, 9, 10, 11],\n",
       " 'chemisorbed_atoms': [12],\n",
       " 'site_atoms': [8, 9],\n",
       " 'ligand_atoms': [4, 6, 7, 9, 10, 11, 5, 6, 7, 8, 10, 11],\n",
       " 'bulk_atoms': [0, 1, 2, 3, 4, 5, 6, 7],\n",
       " 'termination_atoms': [8, 9, 10, 11],\n",
       " 'subsurf_atoms': [4, 5, 6, 7]}"
      ]
     },
     "execution_count": 39,
     "metadata": {},
     "output_type": "execute_result"
    }
   ],
   "source": [
    "# Look at meta data for the first atoms object.\n",
    "images[0].subsets"
   ]
  },
  {
   "cell_type": "markdown",
   "metadata": {},
   "source": [
    "E.g. Atomic indices of atoms belonging to the adsorbate are put in `atoms.subsets['ads_atoms']`\n",
    "There is only one index in that subset, which shows that this system had a monoatomic adsorbate."
   ]
  },
  {
   "cell_type": "code",
   "execution_count": 40,
   "metadata": {},
   "outputs": [
    {
     "name": "stdout",
     "output_type": "stream",
     "text": [
      "adsorbate: H\n",
      "site: ['Ag' 'Ag']\n"
     ]
    }
   ],
   "source": [
    "# Let's see which one it was.\n",
    "print('adsorbate:', images[0].get_chemical_symbols()[12])\n",
    "\n",
    "# What was the site?\n",
    "print('site:', np.array(images[0].get_chemical_symbols())[images[0].subsets['site_atoms']])"
   ]
  },
  {
   "cell_type": "markdown",
   "metadata": {},
   "source": [
    "It was a H* sitting on a Ag-Ag bridge site."
   ]
  },
  {
   "cell_type": "markdown",
   "metadata": {},
   "source": [
    "As a user, you can always choose to attach this information and avoid relying on `autogen_info`, if you prefer. There could be various reasons, why the accuracy of `autogen_info` is not always optimal.\n",
    "\n",
    "`autogen_info` will respect any subsets already present.\n",
    "\n",
    "Furthermore `autogen_info` builds the subsets using information from a connectivity matrix that is stored in `atoms.connectivity`. If the atoms object already has `atoms.connectivity`, that will be kept and used, otherwise a new one will be created using default cutoffs for neighbor distances."
   ]
  },
  {
   "cell_type": "code",
   "execution_count": 41,
   "metadata": {},
   "outputs": [
    {
     "data": {
      "text/plain": [
       "array([[0, 2, 2, 2, 1, 1, 0, 1, 0, 0, 0, 0, 0],\n",
       "       [2, 0, 2, 2, 1, 1, 1, 0, 0, 0, 0, 0, 0],\n",
       "       [2, 2, 0, 2, 0, 1, 1, 1, 0, 0, 0, 0, 0],\n",
       "       [2, 2, 2, 0, 1, 0, 1, 1, 0, 0, 0, 0, 0],\n",
       "       [1, 1, 0, 1, 0, 2, 2, 2, 1, 0, 1, 1, 0],\n",
       "       [1, 1, 1, 0, 2, 0, 2, 2, 0, 1, 1, 1, 0],\n",
       "       [0, 1, 1, 1, 2, 2, 0, 2, 1, 1, 1, 0, 0],\n",
       "       [1, 0, 1, 1, 2, 2, 2, 0, 1, 1, 0, 1, 0],\n",
       "       [0, 0, 0, 0, 1, 0, 1, 1, 0, 2, 2, 2, 1],\n",
       "       [0, 0, 0, 0, 0, 1, 1, 1, 2, 0, 2, 2, 1],\n",
       "       [0, 0, 0, 0, 1, 1, 1, 0, 2, 2, 0, 2, 0],\n",
       "       [0, 0, 0, 0, 1, 1, 0, 1, 2, 2, 2, 0, 0],\n",
       "       [0, 0, 0, 0, 0, 0, 0, 0, 1, 1, 0, 0, 0]])"
      ]
     },
     "execution_count": 41,
     "metadata": {},
     "output_type": "execute_result"
    }
   ],
   "source": [
    "# Lets look at a connectivity matrix.\n",
    "images[0].connectivity"
   ]
  },
  {
   "cell_type": "markdown",
   "metadata": {},
   "source": [
    "Note that there are some 2's in there. Those are a result of the small unit cell size, where atoms can connect to neighbors in several neighboring unit cells."
   ]
  },
  {
   "cell_type": "markdown",
   "metadata": {},
   "source": [
    "# ASE Database interface\n",
    "ASE database is a very useful format for small to medium size (up to around 100000) sets of atomic structures. Here we will create an ASE db file and redo the import from the db."
   ]
  },
  {
   "cell_type": "code",
   "execution_count": 42,
   "metadata": {},
   "outputs": [],
   "source": [
    "import ase.db\n",
    "from catlearn.api.ase_atoms_api import database_to_list\n",
    "from catlearn.featurize.adsorbate_prep import autogen_info"
   ]
  },
  {
   "cell_type": "code",
   "execution_count": 43,
   "metadata": {},
   "outputs": [],
   "source": [
    "# Create a new ASE db.\n",
    "fname = 'ads_example.db'\n",
    "os.remove(fname)\n",
    "c = ase.db.connect(fname)\n",
    "\n",
    "# Write our atoms objects to the ASE db.\n",
    "for atoms in images:\n",
    "    symbols=atoms.get_chemical_symbols()\n",
    "    species=symbols[atoms.subsets['ads_atoms'][0]]\n",
    "    name=symbols[atoms.subsets['slab_atoms'][0]]\n",
    "    c.write(atoms,\n",
    "            # Recommended keys for CatLearn.\n",
    "            species=species,\n",
    "            # Recommended keys for CatMAP compatibility.\n",
    "            name=name,\n",
    "            facet='(111)', n=1, crystal='fcc', supercell='2x2', layers=3, surf_lattice='hexagonal')"
   ]
  },
  {
   "cell_type": "code",
   "execution_count": 44,
   "metadata": {},
   "outputs": [],
   "source": [
    "# Import data.\n",
    "images = database_to_list(fname)"
   ]
  },
  {
   "cell_type": "markdown",
   "metadata": {},
   "source": [
    "From here you can run `autogen_info` and the following workflow, as presented before."
   ]
  },
  {
   "cell_type": "markdown",
   "metadata": {},
   "source": [
    "# Analyse bond distances, check cutoffs\n",
    "\n",
    "This analysis must be done on optimized structures, but here we show a toy example using the dataset introduced previously in this tutorial.\n",
    "\n",
    "In the following, we will plot pair distribution functions (pdf) over our dataset or subset. This is necessary to convince ourselves that a we can rely on connectivities to fingerprint the atomic structures. "
   ]
  },
  {
   "cell_type": "code",
   "execution_count": 45,
   "metadata": {},
   "outputs": [],
   "source": [
    "from ase.data import covalent_radii\n",
    "from catlearn.utilities.distribution import pair_distribution, pair_deviation"
   ]
  },
  {
   "cell_type": "markdown",
   "metadata": {},
   "source": [
    "### Pair distribution function\n",
    "The pair distribution function is a histrogram over distances between the atoms in our dataset. Our pdf utility in catlearn can optionally select a one or two elements to include in the analysis."
   ]
  },
  {
   "cell_type": "code",
   "execution_count": 46,
   "metadata": {},
   "outputs": [],
   "source": [
    "# int for bonds between a single element and all other atoms. \n",
    "# tuple (A, B) for bonds between A and B only.\n",
    "element = 6\n",
    "\n",
    "images_subset = [a for a in images if element in a.numbers]\n",
    "\n",
    "# Generate pdf.\n",
    "pdf, x = pair_distribution(images_subset, bins=257, bounds=(0.3, 3.), element=element)"
   ]
  },
  {
   "cell_type": "code",
   "execution_count": 47,
   "metadata": {},
   "outputs": [
    {
     "data": {
      "text/plain": [
       "Text(0.5,0,'$r$ [$10^{-10}$ m]')"
      ]
     },
     "execution_count": 47,
     "metadata": {},
     "output_type": "execute_result"
    },
    {
     "data": {
      "image/png": "[encoded data removed]",
      "text/plain": [
       "<Figure size 432x288 with 1 Axes>"
      ]
     },
     "metadata": {
      "needs_background": "light"
     },
     "output_type": "display_data"
    }
   ],
   "source": [
    "# Plot pdf.\n",
    "plt.plot(x, pdf)\n",
    "plt.xlabel('$r$ [$10^{-10}$ m]')"
   ]
  },
  {
   "cell_type": "markdown",
   "metadata": {},
   "source": [
    "The pdf does not directly show us the appropriate cutoff unless we select a specific pair of elements to count bonds between.\n",
    "\n",
    "### Set cutoffs\n",
    "\n",
    "Lets set some cutoffs manually and evaluate them."
   ]
  },
  {
   "cell_type": "code",
   "execution_count": 48,
   "metadata": {},
   "outputs": [],
   "source": [
    "cutoff_dictionary = {}\n",
    "for z, s in enumerate(chemical_symbols[:104]):\n",
    "    if z == 0:\n",
    "        continue\n",
    "    elif s in adsorbates and z!=1:\n",
    "        radius = covalent_radii[z] * 1.1 + 0.1\n",
    "    else:\n",
    "        radius = get_radius(z) * 1.1 + 0.1\n",
    "    cutoff_dictionary[z] = radius"
   ]
  },
  {
   "cell_type": "code",
   "execution_count": 49,
   "metadata": {},
   "outputs": [],
   "source": [
    "# int for bonds between a single element and all other atoms. \n",
    "# tuple (A, B) for bonds between A and B only.\n",
    "element = (78, 1)\n",
    "\n",
    "images_subset = [a for a in images if element[0] in a.numbers and element[1] in a.numbers]\n",
    "\n",
    "# Generate pdf.\n",
    "pdf, x = pair_distribution(images_subset, bins=257, bounds=(0.3, 3.), element=element)"
   ]
  },
  {
   "cell_type": "code",
   "execution_count": 50,
   "metadata": {},
   "outputs": [
    {
     "name": "stdout",
     "output_type": "stream",
     "text": [
      "Pt cutoff radius 1.629\n",
      "H cutoff radius 0.9690000000000001\n",
      "bond cutoff 2.598\n"
     ]
    },
    {
     "data": {
      "text/plain": [
       "Text(0.5,0,'$r$ [$10^{-10}$ m]')"
      ]
     },
     "execution_count": 50,
     "metadata": {},
     "output_type": "execute_result"
    },
    {
     "data": {
      "image/png": "[encoded data removed]",
      "text/plain": [
       "<Figure size 432x288 with 1 Axes>"
      ]
     },
     "metadata": {
      "needs_background": "light"
     },
     "output_type": "display_data"
    }
   ],
   "source": [
    "# Plot pdf.\n",
    "plt.plot(x, pdf)\n",
    "\n",
    "# Print and plot bond lenght\n",
    "bond = 0.\n",
    "if isinstance(element, int):\n",
    "    print(chemical_symbols[element] + ' cutoff radius', cutoff_dictionary[element])\n",
    "elif isinstance(element, tuple):\n",
    "    for z in element:\n",
    "        print(chemical_symbols[z] + ' cutoff radius', cutoff_dictionary[z])\n",
    "        bond += cutoff_dictionary[z]\n",
    "    print('bond cutoff', bond)\n",
    "plt.axvline(bond, color='0.5')\n",
    "\n",
    "# Axis label.\n",
    "plt.xlabel('$r$ [$10^{-10}$ m]')"
   ]
  },
  {
   "cell_type": "markdown",
   "metadata": {},
   "source": [
    "If the line is after the first peak and clear of any other peaks, the cutoff will clearly distinguish first nearest neigbors.\n",
    "\n",
    "### Check cutoffs\n",
    "\n",
    "When our dataset has a larger number of elements, we don't really want to evaluate every pair of elements as shown above. We can instead plot a histogram of bond distances, where the element specific cutoff radii have been subtracted, $r - (r_a + r_b)$."
   ]
  },
  {
   "cell_type": "code",
   "execution_count": 51,
   "metadata": {},
   "outputs": [],
   "source": [
    "deviation, xd = pair_deviation(images, bins=257, bounds=(-.75, 0.75), cutoffs=cutoff_dictionary)"
   ]
  },
  {
   "cell_type": "code",
   "execution_count": 52,
   "metadata": {},
   "outputs": [
    {
     "data": {
      "text/plain": [
       "Text(0.5,0,'$r - (r_a + r_b)$ [$10^{-10}$ m]')"
      ]
     },
     "execution_count": 52,
     "metadata": {},
     "output_type": "execute_result"
    },
    {
     "data": {
      "image/png": "[encoded data removed]",
      "text/plain": [
       "<Figure size 432x288 with 1 Axes>"
      ]
     },
     "metadata": {
      "needs_background": "light"
     },
     "output_type": "display_data"
    }
   ],
   "source": [
    "plt.plot(xd, deviation)\n",
    "plt.xlabel('$r - (r_a + r_b)$ [$10^{-10}$ m]')"
   ]
  },
  {
   "cell_type": "markdown",
   "metadata": {},
   "source": [
    "If the distribution is 0 where $r = r_a + r_b$, we can unambigously represent structures by their connectivity. If the distribution is not 0 at $r = r_a + r_b$, we may be able to tune our cutoff radii to obtain more accurate connectivities, depending on the dataset."
   ]
  },
  {
   "cell_type": "code",
   "execution_count": null,
   "metadata": {},
   "outputs": [],
   "source": []
  }
 ],
 "metadata": {
  "kernelspec": {
   "display_name": "Python 3",
   "language": "python",
   "name": "python3"
  },
  "language_info": {
   "codemirror_mode": {
    "name": "ipython",
    "version": 3
   },
   "file_extension": ".py",
   "mimetype": "text/x-python",
   "name": "python",
   "nbconvert_exporter": "python",
   "pygments_lexer": "ipython3",
   "version": "3.7.0"
  }
 },
 "nbformat": 4,
 "nbformat_minor": 2
}
