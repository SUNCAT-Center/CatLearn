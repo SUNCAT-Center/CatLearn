{
 "cells": [
  {
   "cell_type": "markdown",
   "metadata": {},
   "source": [
    "# Graph-Based Feature Setup <a name=\"head\"></a>\n",
    "\n",
    "When exact geometries are unknown it may be beneficial to use features \"binned\" into neighbor shells. This avoids adding noise from changes in the geometry when a optimization is performed. For this, we use some graph-based features, similar to others aside from instead of using explicit distances, features are based on the neighbor shell.\n",
    "\n",
    "## Table of Contents\n",
    "[(Back to top)](#head)\n",
    "\n",
    "-   [Requirements](#requirements)\n",
    "-   [Setup](#setup)\n",
    "-   [Neighbor Shells](#neighbor-shells)\n",
    "-   [Efficiency](#efficiency)\n",
    "-   [Gaussian Process Regression](#gaussian-process-regression)\n",
    "-   [Conclusions](#conclusions)\n",
    "\n",
    "## Requirements <a name=\"requirements\"></a>\n",
    "[(Back to top)](#head)\n",
    "\n",
    "-   [CatLearn](https://github.com/SUNCAT-Center/CatLearn)\n",
    "-   [ASE](https://wiki.fysik.dtu.dk/ase/)\n",
    "-   [numpy](http://www.numpy.org/)\n",
    "-   [matplotlib](https://matplotlib.org/index.html)\n",
    "-   [seaborn](http://seaborn.pydata.org/index.html)\n",
    "\n",
    "## Setup <a name=\"setup\"></a>\n",
    "[(Back to top)](#head)"
   ]
  },
  {
   "cell_type": "code",
   "execution_count": null,
   "metadata": {},
   "outputs": [],
   "source": [
    "import numpy as np\n",
    "import seaborn as sns\n",
    "import matplotlib.pyplot as plt\n",
    "import time\n",
    "\n",
    "from ase.ga.data import DataConnection\n",
    "\n",
    "from catlearn.utilities.neighborlist import ase_neighborlist, catlearn_neighborlist\n",
    "from catlearn.fingerprint.setup import FeatureGenerator\n",
    "from catlearn.api.ase_data_setup import get_unique, get_train\n",
    "from catlearn.regression import GaussianProcess\n",
    "from catlearn.regression.cost_function import get_error"
   ]
  },
  {
   "cell_type": "markdown",
   "metadata": {},
   "source": [
    "## Neighbor Shells <a name=\"neighbor-shells\"></a>\n",
    "[(Back to top)](#head)\n",
    "\n",
    "When using the `catlearn_neighborlist` function, it is possible to retrieve the full list of neighbor shells. In the following, we will import some atoms objects for 147-atom icosahedral nanoparticles, then iterate over neighbor shells until all neighbor pairs are assigned. To start with we import the relevant data."
   ]
  },
  {
   "cell_type": "code",
   "execution_count": null,
   "metadata": {},
   "outputs": [],
   "source": [
    "# Connect ase atoms database.\n",
    "gadb = DataConnection('../../data/gadb.db')\n",
    "\n",
    "# Get all relaxed candidates from the db file.\n",
    "all_cand = gadb.get_all_relaxed_candidates(use_extinct=False)"
   ]
  },
  {
   "cell_type": "markdown",
   "metadata": {},
   "source": [
    "In this case, it is known that there are 5 shells through which we can iterate until all neighbor pairs are accounted for. Some heatmaps are plotted to show the neighbor interactions as new shells are added."
   ]
  },
  {
   "cell_type": "code",
   "execution_count": null,
   "metadata": {},
   "outputs": [],
   "source": [
    "for i in range(5):\n",
    "    nl = catlearn_neighborlist(all_cand[0], max_neighbor=i+1)\n",
    "\n",
    "    plt.figure(figsize=(10,10))\n",
    "    sns.heatmap(nl, square=True, cbar_kws={\"shrink\": .8})\n",
    "    plt.xlabel('atom index')\n",
    "    plt.ylabel('atom index')"
   ]
  },
  {
   "cell_type": "markdown",
   "metadata": {},
   "source": [
    "## Efficiency <a name=\"efficiency\"></a>\n",
    "[(Back to top)](#head)\n",
    "\n",
    "The code used to calculate the neighbor shells should be relatively efficient. In the following the ASE (3.15.0) neighbor list generation function is used to get the first nearest neighbors."
   ]
  },
  {
   "cell_type": "code",
   "execution_count": null,
   "metadata": {},
   "outputs": [],
   "source": [
    "stime = time.time()\n",
    "for atoms in all_cand:\n",
    "    ase_neighborlist(atoms)\n",
    "print('single neighbor shell: {0:.2f}'.format(time.time() - stime))"
   ]
  },
  {
   "cell_type": "markdown",
   "metadata": {},
   "source": [
    "This process takes a relatively long time to generate all ~1000 feature vectors. This time is reduced when calculating all neighbors with the `catlearn_neighborlist` function."
   ]
  },
  {
   "cell_type": "code",
   "execution_count": null,
   "metadata": {},
   "outputs": [],
   "source": [
    "# Get all relaxed candidates from the db file.\n",
    "all_cand = gadb.get_all_relaxed_candidates(use_extinct=False)\n",
    "\n",
    "stime = time.time()\n",
    "for atoms in all_cand:\n",
    "    catlearn_neighborlist(atoms, max_neighbor='full')\n",
    "print('all neighbor shells: {0:.2f}'.format(time.time() - stime))"
   ]
  },
  {
   "cell_type": "markdown",
   "metadata": {},
   "source": [
    "## Gaussian Processes Regression <a name=\"gaussian-process-regression\"></a>\n",
    "[(Back to top)](#head)\n",
    "\n",
    "Next, we make some predictions on the various feature vectors. For this, the data set is separated into a simple training and test set."
   ]
  },
  {
   "cell_type": "code",
   "execution_count": null,
   "metadata": {},
   "outputs": [],
   "source": [
    "testset = get_unique(atoms=all_cand, size=100, key='raw_score')\n",
    "\n",
    "trainset = get_train(atoms=all_cand, size=500, taken=testset['taken'],\n",
    "                     key='raw_score')"
   ]
  },
  {
   "cell_type": "markdown",
   "metadata": {},
   "source": [
    "After this, a basic Gaussian process prediction function is set up."
   ]
  },
  {
   "cell_type": "code",
   "execution_count": null,
   "metadata": {},
   "outputs": [],
   "source": [
    "def predict(train_features, train_targets, test_features, test_targets, n):\n",
    "    kdict = {\n",
    "        'k1': {\n",
    "            'type': 'gaussian', 'width': 1., 'scaling': 1., 'dimension': 'single'},\n",
    "        'k2' : {\n",
    "            'type': 'linear', 'scaling': 1.},\n",
    "        }\n",
    "    gp = GaussianProcess(train_fp=train_features, train_target=train_targets,\n",
    "                         kernel_dict=kdict, regularization=1e-2,\n",
    "                         optimize_hyperparameters=True, scale_data=True)\n",
    "\n",
    "    pred = gp.predict(test_fp=test_features)\n",
    "\n",
    "    error = get_error(pred['prediction'],\n",
    "                      test_targets)['rmse_average']\n",
    "\n",
    "    print('error for {0} neighbors: {1:.3f}'.format(n, error))\n",
    "    \n",
    "    plt.figure(figsize=(10, 10))\n",
    "    plt.plot(test_targets, pred['prediction'], 'o', c='r', alpha=0.5)\n",
    "    plt.show()"
   ]
  },
  {
   "cell_type": "markdown",
   "metadata": {},
   "source": [
    "And then predictions are made taking into account the various number of neighbor shells."
   ]
  },
  {
   "cell_type": "code",
   "execution_count": null,
   "metadata": {},
   "outputs": [],
   "source": [
    "for number in range(5):\n",
    "    generator = FeatureGenerator(atom_types=[78, 79], element_parameters='atomic_radius',\n",
    "                             max_neighbors=number+1, nprocs=1)\n",
    "    train_features = generator.return_vec(trainset['atoms'], [generator.neighbor_sum_vec])\n",
    "    test_features = generator.return_vec(testset['atoms'], [generator.neighbor_sum_vec])\n",
    "\n",
    "    predict(train_features, trainset['target'], test_features, testset['target'], number+1)"
   ]
  },
  {
   "cell_type": "markdown",
   "metadata": {},
   "source": [
    "## Conclusions <a name=\"conclusions\"></a>\n",
    "[(Back to top)](#head)\n",
    "\n",
    "The inclusion of additional neighbor shells is beneficial for some of the outliers. In general, it appears to add noise in the case of well-behaved systems."
   ]
  }
 ],
 "metadata": {
  "kernelspec": {
   "display_name": "Python 3",
   "language": "python",
   "name": "python3"
  },
  "language_info": {
   "codemirror_mode": {
    "name": "ipython",
    "version": 3
   },
   "file_extension": ".py",
   "mimetype": "text/x-python",
   "name": "python",
   "nbconvert_exporter": "python",
   "pygments_lexer": "ipython3",
   "version": "3.6.4"
  }
 },
 "nbformat": 4,
 "nbformat_minor": 2
}
