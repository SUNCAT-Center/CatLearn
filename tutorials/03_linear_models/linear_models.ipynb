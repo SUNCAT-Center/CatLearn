{
 "cells": [
  {
   "cell_type": "markdown",
   "metadata": {},
   "source": [
    "# Third CatLearn tutorial.\n",
    "\n",
    "This tutorial is intended to give further intuition for the Gaussian process and compare it to a linear model.\n",
    "\n",
    "Like in tutorial 1, we set up a known underlying function, generate training and test data and calculate predictions and errors. We will compare the results of linear ridge regression, Gaussian linear kernel regression and finally a Gaussian process with the usual squared exponential kernel."
   ]
  },
  {
   "cell_type": "code",
   "execution_count": null,
   "metadata": {},
   "outputs": [],
   "source": [
    "# Import packages.\n",
    "import numpy as np\n",
    "import matplotlib.pyplot as plt\n",
    "from mpl_toolkits.mplot3d import Axes3D\n",
    "from matplotlib.animation import FuncAnimation\n",
    "\n",
    "from catlearn.preprocess.scaling import standardize, target_standardize\n",
    "from catlearn.regression import GaussianProcess, RidgeRegression\n",
    "from catlearn.regression.cost_function import get_error"
   ]
  },
  {
   "cell_type": "code",
   "execution_count": null,
   "metadata": {},
   "outputs": [],
   "source": [
    "# A known underlying function in two dimensions\n",
    "def afunc(x):\n",
    "    \"\"\"2D linear function (plane).\"\"\"\n",
    "    return 3. * x[:, 0] - 1. * x[:, 1] + 500."
   ]
  },
  {
   "cell_type": "markdown",
   "metadata": {},
   "source": [
    "We now set up a dataset with 2 training features and one target feature."
   ]
  },
  {
   "cell_type": "code",
   "execution_count": null,
   "metadata": {},
   "outputs": [],
   "source": [
    "# Setting up data.\n",
    "# A number of training points in x.\n",
    "train_points = 17\n",
    "# Magnitude of the noise.\n",
    "noise_magnitude = 0.5\n",
    "\n",
    "# Randomly generate the training datapoints x.\n",
    "train_d1 = 2 * (np.random.random_sample(train_points) - 0.5)\n",
    "train_d2 = 2 * (np.random.random_sample(train_points) - 0.5)\n",
    "train_x1, train_x2 = np.meshgrid(train_d1, train_d2)\n",
    "train = np.hstack([np.vstack(train_d1), np.vstack(train_d2)])\n",
    "\n",
    "# Each element in the list train can be referred to as a fingerprint.\n",
    "# Call the underlying function to produce the target values.\n",
    "target = np.array(afunc(train))\n",
    "\n",
    "# Add random noise from a normal distribution to the target values.\n",
    "for i in range(train_points):\n",
    "    target[i] += noise_magnitude * np.random.normal()\n",
    "\n",
    "# Generate test datapoints x.\n",
    "test_points = 16\n",
    "test1d = np.vstack(np.linspace(-1.3, 1.3, test_points))\n",
    "test_x1, test_x2 = np.meshgrid(test1d, test1d)\n",
    "test = np.hstack([np.vstack(test_x1.ravel()), np.vstack(test_x2.ravel())])\n",
    "\n",
    "print(np.shape(train))\n",
    "print(np.shape(test))\n",
    "print(np.shape(target))\n",
    "\n",
    "# Standardize the training and test data on the same scale.\n",
    "std = standardize(train_matrix=train,\n",
    "                  test_matrix=test)\n",
    "\n",
    "# Standardize the training targets.\n",
    "train_targets = target_standardize(target)\n",
    "# Note that predictions will now be made on the standardized scale."
   ]
  },
  {
   "cell_type": "markdown",
   "metadata": {},
   "source": [
    "## Model example 1 - Ridge regression."
   ]
  },
  {
   "cell_type": "code",
   "execution_count": null,
   "metadata": {},
   "outputs": [],
   "source": [
    "# Test ridge regression predictions.\n",
    "rr = RidgeRegression()\n",
    "reg = rr.find_optimal_regularization(X=std['train'],\n",
    "                                     Y=train_targets['target'])\n",
    "coef = rr.RR(X=std['train'], Y=train_targets['target'], omega2=reg)[0]\n",
    "# Test the model.\n",
    "sumd = 0.\n",
    "rr_predictions = []\n",
    "for tf, tt in zip(std['test'], afunc(test)):\n",
    "    p = ((np.dot(coef, tf)) * train_targets['std']) + train_targets['mean']\n",
    "    rr_predictions.append(p)\n",
    "    sumd += (p - tt) ** 2\n",
    "# Plotting.\n",
    "plt3d = plt.figure().gca(projection='3d')\n",
    "# Plot training data.\n",
    "plt3d.scatter(train[:, 0], train[:, 1], target,  color='b')\n",
    "# Plot exact function.\n",
    "plt3d.plot_surface(test_x1, test_x2,\n",
    "                   afunc(test).reshape(np.shape(test_x1)),\n",
    "                   alpha=0.3, color='b')\n",
    "# Plot the prediction.\n",
    "plt3d.plot_surface(test_x1, test_x2,\n",
    "                   np.array(rr_predictions).reshape(np.shape(test_x1)),\n",
    "                   alpha=0.3, color='r')\n",
    "print('Ridge regression prediction:', (sumd / len(test)) ** 0.5)"
   ]
  },
  {
   "cell_type": "markdown",
   "metadata": {},
   "source": [
    "This is a linear model with L2 regularization also known as ridge regression. The predicted function is therefore a plane in 3 dimensions.\n",
    "\n",
    "These examples run on our 3 feature data set (including the target), so we need to plot the resulting models and training data in 3D plots. To get a matplotlib interactive window, where you can rotate the data, you can run the `linear_models.py` file in this directory.\n",
    "\n",
    "You can also step through the notebook here and view a 2D projection of the results.\n",
    "\n",
    "## Model example 2 - Gausian linear kernel regression."
   ]
  },
  {
   "cell_type": "code",
   "execution_count": null,
   "metadata": {},
   "outputs": [],
   "source": [
    "# Define prediction parameters\n",
    "kdict = {'k1': {'type': 'linear', 'scaling': 0.9},\n",
    "         'c1': {'type': 'constant', 'const': 0.0}}\n",
    "# Starting guess for the noise parameter\n",
    "sdt1 = noise_magnitude\n",
    "# Set up the gaussian process.\n",
    "gp1 = GaussianProcess(kernel_dict=kdict, regularization=sdt1,\n",
    "                      train_fp=std['train'],\n",
    "                      train_target=train_targets['target'],\n",
    "                      optimize_hyperparameters=True,\n",
    "                      scale_optimizer=False)\n",
    "# Do predictions.\n",
    "linear = gp1.predict(test_fp=std['test'], get_validation_error=True,\n",
    "                     test_target=afunc(test))\n",
    "prediction = np.array(linear['prediction']) * train_targets['std'] + \\\n",
    "    train_targets['mean']\n",
    "error = get_error(prediction, afunc(test))\n",
    "# Plotting.\n",
    "plt3d = plt.figure().gca(projection='3d')\n",
    "# Plot training data.\n",
    "plt3d.scatter(train[:, 0], train[:, 1], target,  color='b')\n",
    "# Plot exact function.\n",
    "plt3d.plot_surface(test_x1, test_x2,\n",
    "                   afunc(test).reshape(np.shape(test_x1)),\n",
    "                   alpha=0.3, color='b')\n",
    "# Plot the prediction.\n",
    "plt3d.plot_surface(test_x1, test_x2,\n",
    "                   prediction.reshape(np.shape(test_x1)),\n",
    "                   alpha=0.3, color='g')\n",
    "print('Gaussian linear regression prediction:', error['absolute_average'])"
   ]
  },
  {
   "cell_type": "markdown",
   "metadata": {},
   "source": [
    "Notice that Ridge regression and the Gaussian linear model are almost identical.\n",
    "\n",
    "## Model example 3 - Gaussian Process with squared exponential kernel.\n",
    "\n",
    "This kernel is also known as the Gaussian kernel, which is a bit confusing and not related to the term Gaussian process."
   ]
  },
  {
   "cell_type": "code",
   "execution_count": null,
   "metadata": {},
   "outputs": [],
   "source": [
    "# Set up the prediction routine and optimize hyperparameters.\n",
    "kdict = {'k1': {'type': 'gaussian', 'width': [0.3, 3.], 'scaling': 0.9}}\n",
    "# Starting guess for the noise parameter\n",
    "sdt1 = noise_magnitude\n",
    "# Set up the gaussian process.\n",
    "gp2 = GaussianProcess(kernel_dict=kdict, regularization=sdt1,\n",
    "                      train_fp=std['train'],\n",
    "                      train_target=train_targets['target'],\n",
    "                      optimize_hyperparameters=True,\n",
    "                      scale_optimizer=False)\n",
    "# Do the optimized predictions.\n",
    "gaussian = gp2.predict(test_fp=std['test'])\n",
    "# Put predictions back on real scale.\n",
    "prediction = np.array(gaussian['prediction']) * train_targets['std'] + \\\n",
    "    train_targets['mean']\n",
    "# Get average errors.\n",
    "error = get_error(prediction, afunc(test))\n",
    "# Plotting.\n",
    "plt3d = plt.figure().gca(projection='3d')\n",
    "# Plot training data.\n",
    "plt3d.scatter(train[:, 0], train[:, 1], target,  color='b')\n",
    "# Plot exact function.\n",
    "plt3d.plot_surface(test_x1, test_x2,\n",
    "                   afunc(test).reshape(np.shape(test_x1)),\n",
    "                   alpha=0.3, color='b')\n",
    "# Plot the prediction.\n",
    "plt3d.plot_surface(test_x1, test_x2,\n",
    "                   prediction.reshape(np.shape(test_x1)),\n",
    "                   alpha=0.3, color='g')\n",
    "print('Squared exponential kernel Gaussian process prediction:', error['absolute_average'])"
   ]
  },
  {
   "cell_type": "markdown",
   "metadata": {},
   "source": [
    "If the noise is high enough and/or the training data is sparse enough, you will get some smooth wiggles from the squared exponential kernel, even though the underlying function is linear. This is because the squared exponential kernel is local and does not extrapolate well, whereas the linear models are global and extrapolates well.\n",
    "\n",
    "### Experiment and get intuition.\n",
    "\n",
    "Try playing around with the training set size (density) by changing the `train_points` variable, and the magnitude of the noise by playing with the `noise_magnitude` variable and rerun the models."
   ]
  },
  {
   "cell_type": "code",
   "execution_count": null,
   "metadata": {},
   "outputs": [],
   "source": []
  }
 ],
 "metadata": {
  "kernelspec": {
   "display_name": "Python 3",
   "language": "python",
   "name": "python3"
  },
  "language_info": {
   "codemirror_mode": {
    "name": "ipython",
    "version": 3
   },
   "file_extension": ".py",
   "mimetype": "text/x-python",
   "name": "python",
   "nbconvert_exporter": "python",
   "pygments_lexer": "ipython3",
   "version": "3.6.4"
  }
 },
 "nbformat": 4,
 "nbformat_minor": 2
}
