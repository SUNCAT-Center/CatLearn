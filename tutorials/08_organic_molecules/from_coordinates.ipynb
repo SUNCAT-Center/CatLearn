{
 "cells": [
  {
   "cell_type": "markdown",
   "metadata": {},
   "source": [
    "# Coordinate Feature Generators <a name=\"head\"></a>\n",
    "\n",
    "In this tutorial, we will look at generating features from a database of organic donor-acceptor molecules from the [Computational Materials Repository](https://cmrdb.fysik.dtu.dk/?project=solar). This has been downloaded in the [ase-db](https://wiki.fysik.dtu.dk/ase/ase/db/db.html#module-ase.db) format so first off we load the atoms objects and get a target property. Then we convert the atoms objects into a feature array and test out a couple of different models.\n",
    "\n",
    "This tutorial will give an indication of one way in which it is possible to handle atoms objects of different sizes. In particular, we focus on a feature set that scales with the number of atoms. We pad the feature vectors to a constant size to overcome this problem.\n",
    "\n",
    "## Table of Contents\n",
    "[(Back to top)](#head)\n",
    "\n",
    "-   [Requirements](#requirements)\n",
    "-   [Data Setup](#data-setup)\n",
    "-   [Feature Generation](#feature-generation)\n",
    "-   [Predictions](#predictions)\n",
    "-   [Cross-validation](#cross-validation)\n",
    "\n",
    "## Requirements <a name=\"requirements\"></a>\n",
    "[(Back to top)](#head)\n",
    "\n",
    "-   [CatLearn](https://github.com/SUNCAT-Center/CatLearn)\n",
    "-   [ASE](https://wiki.fysik.dtu.dk/ase/)\n",
    "-   [numpy](http://www.numpy.org/)\n",
    "-   [matplotlib](https://matplotlib.org/)\n",
    "-   [pandas](http://pandas.pydata.org/)\n",
    "-   [seaborn](http://seaborn.pydata.org/index.html)\n",
    "\n",
    "## Data Setup <a name=\"data-setup\"></a>\n",
    "[(Back to top)](#head)\n",
    "\n",
    "First, we need to import some functions."
   ]
  },
  {
   "cell_type": "code",
   "execution_count": null,
   "metadata": {
    "collapsed": true
   },
   "outputs": [],
   "source": [
    "# Comment out this line when exported to .py file\n",
    "%matplotlib inline\n",
    "\n",
    "import os\n",
    "import random\n",
    "import numpy as np\n",
    "import matplotlib.pyplot as plt\n",
    "import matplotlib.cm as cm\n",
    "import matplotlib.font_manager as font_manager\n",
    "import pandas as pd\n",
    "from pandas.plotting import parallel_coordinates\n",
    "import seaborn as sns\n",
    "\n",
    "import ase.db\n",
    "\n",
    "from catlearn.featurize.setup import FeatureGenerator\n",
    "from catlearn.regression import RidgeRegression, GaussianProcess\n",
    "from catlearn.cross_validation import Hierarchy\n",
    "from catlearn.regression.cost_function import get_error"
   ]
  },
  {
   "cell_type": "markdown",
   "metadata": {},
   "source": [
    "We then need to extract the atoms objects from the db, as this is the format that AtoML will require to generate the feature vectors. At this point, the target values are also compiled. For this tutorial, we will use the ground state energies as targets."
   ]
  },
  {
   "cell_type": "code",
   "execution_count": null,
   "metadata": {
    "collapsed": true
   },
   "outputs": [],
   "source": [
    "# Connect the ase-db.\n",
    "db = ase.db.connect('../../data/solar.db')\n",
    "atoms = list(db.select())\n",
    "random.shuffle(atoms)\n",
    "\n",
    "# Compile a list of atoms and target values.\n",
    "alist = []\n",
    "targets = []\n",
    "for row in atoms:\n",
    "    try:\n",
    "        targets.append(row.Energy)\n",
    "        alist.append(row.toatoms())\n",
    "    except AttributeError:\n",
    "        continue\n",
    "\n",
    "# Analyze the size of molecules in the db.\n",
    "print('pulled {} molecules from db'.format(len(alist)))\n",
    "size = []\n",
    "for a in alist:\n",
    "    size.append(len(a))\n",
    "\n",
    "print('min: {0}, mean: {1:.0f}, max: {2} molecule size'.format(\n",
    "    min(size), sum(size)/len(size), max(size)))"
   ]
  },
  {
   "cell_type": "markdown",
   "metadata": {},
   "source": [
    "Here we can see that there are a total of ~5400 molecules in the db ranging from 26 to 294 atoms."
   ]
  },
  {
   "cell_type": "code",
   "execution_count": null,
   "metadata": {
    "collapsed": true
   },
   "outputs": [],
   "source": [
    "# Divide up the data into a test and training set.\n",
    "train_size = 1000\n",
    "train_atoms = alist[:train_size]\n",
    "test_atoms = alist[train_size:]\n",
    "train_targets = np.asarray(targets[:train_size])\n",
    "test_targets = np.asarray(targets[train_size:])\n",
    "\n",
    "print('{} shape training atoms data'.format(\n",
    "    np.shape(train_atoms)))\n",
    "print('{} shape testing atoms data'.format(\n",
    "    np.shape(test_atoms)))"
   ]
  },
  {
   "cell_type": "markdown",
   "metadata": {},
   "source": [
    "## Feature Generation <a name=\"feature-generation\"></a>\n",
    "[(Back to top)](#head)\n",
    "\n",
    "It can be necessary to work out the full range of elements that need to be accounted for in the model. The feature generator tries to work out the range of elements to account for based on the maximum composition. However, explicitly specifying this is more robust."
   ]
  },
  {
   "cell_type": "code",
   "execution_count": null,
   "metadata": {
    "collapsed": true
   },
   "outputs": [],
   "source": [
    "generator = FeatureGenerator()\n",
    "\n",
    "generator.normalize_features(\n",
    "    train_candidates=train_atoms, test_candidates=test_atoms)\n",
    "print('Max number of atom present in data: {}'.format(generator.atom_len))\n",
    "print('Atom numbers present in data: {}'.format(generator.atom_types))"
   ]
  },
  {
   "cell_type": "markdown",
   "metadata": {},
   "source": [
    "We then generate the feature array for all the atoms objects. The `return_vec()` function takes the list of atoms objects and the type of features to generate."
   ]
  },
  {
   "cell_type": "code",
   "execution_count": null,
   "metadata": {
    "collapsed": true
   },
   "outputs": [],
   "source": [
    "train_features = generator.return_vec(\n",
    "    train_atoms, [generator.eigenspectrum_vec, generator.composition_vec])\n",
    "\n",
    "test_features = generator.return_vec(\n",
    "    test_atoms, [generator.eigenspectrum_vec, generator.composition_vec])\n",
    "\n",
    "print('{} shape training feature matrix'.format(\n",
    "    np.shape(train_features)))\n",
    "print('{} shape testing feature matrix'.format(\n",
    "    np.shape(test_features)))"
   ]
  },
  {
   "cell_type": "markdown",
   "metadata": {},
   "source": [
    "After this, we can analyze the distribution of the feature sets. In the following, we see a large number of features in the latter half of the vectors tend to be zero."
   ]
  },
  {
   "cell_type": "code",
   "execution_count": null,
   "metadata": {
    "collapsed": true
   },
   "outputs": [],
   "source": [
    "dif = np.max(train_features, axis=0) - np.min(train_features, axis=0)\n",
    "np.place(dif, dif == 0., [1.])\n",
    "mean = np.mean(train_features, axis=0)\n",
    "scaled = (train_features.copy() - mean) / dif\n",
    "plt.figure(num=0, figsize=(30,15))\n",
    "cmap = sns.diverging_palette(250, 15, s=75, l=40, n=1000, center=\"dark\")\n",
    "sns.heatmap(scaled, cmap=cmap)\n",
    "plt.savefig('train_features.png')"
   ]
  },
  {
   "cell_type": "code",
   "execution_count": null,
   "metadata": {
    "collapsed": true
   },
   "outputs": [],
   "source": [
    "scaled = (test_features.copy() - mean) / dif\n",
    "plt.figure(num=1, figsize=(30,15))\n",
    "cmap = sns.diverging_palette(250, 15, s=75, l=40, n=1000, center=\"dark\")\n",
    "sns.heatmap(scaled, cmap=cmap)\n",
    "plt.savefig('test_features.png')"
   ]
  },
  {
   "cell_type": "markdown",
   "metadata": {},
   "source": [
    "We can make some parallel coordinate plots using pandas to get a slightly better idea of how the feature vectors look. Initially, we set up the dataframe containing the training data."
   ]
  },
  {
   "cell_type": "code",
   "execution_count": null,
   "metadata": {
    "collapsed": true
   },
   "outputs": [],
   "source": [
    "tf = train_features.copy()\n",
    "td = np.reshape(train_targets.copy(), (len(train_targets), 1))\n",
    "train_data = np.concatenate((tf, td), axis=1)\n",
    "\n",
    "columns = ['f{}'.format(i) for i in range(np.shape(train_features)[1])]\n",
    "columns += ['target']\n",
    "index = range(np.shape(train_features)[0])\n",
    "df = pd.DataFrame(train_data, index=index, columns=columns)"
   ]
  },
  {
   "cell_type": "markdown",
   "metadata": {},
   "source": [
    "We can then define the plotting function. This just takes the dataframe object."
   ]
  },
  {
   "cell_type": "code",
   "execution_count": null,
   "metadata": {
    "collapsed": true
   },
   "outputs": [],
   "source": [
    "cmap = cm.get_cmap('Spectral')\n",
    "\n",
    "def parallel_plot(data, num=None):\n",
    "    plt.figure(num=num, figsize=(50,25))\n",
    "    ax = parallel_coordinates(\n",
    "        data, 'target', colormap=cmap, axvlines=False)\n",
    "\n",
    "    plt.legend().set_visible(False)\n",
    "    plt.grid(False)\n",
    "\n",
    "    ax.xaxis.set_ticks_position('none')\n",
    "    for label in ax.get_xticklabels():\n",
    "        label.set_fontname('Arial')\n",
    "        label.set_fontsize(0)\n",
    "    for label in ax.get_yticklabels():\n",
    "        label.set_fontname('Arial')\n",
    "        label.set_fontsize(30)\n",
    "    axis_font = {'fontname':'Arial', 'size':'35'}\n",
    "    plt.ylabel(\"Numeric Representation\", **axis_font)\n",
    "    plt.xlabel(\"Fingerprint\", **axis_font)"
   ]
  },
  {
   "cell_type": "markdown",
   "metadata": {},
   "source": [
    "We can then plot the original unscaled data."
   ]
  },
  {
   "cell_type": "code",
   "execution_count": null,
   "metadata": {
    "collapsed": true
   },
   "outputs": [],
   "source": [
    "parallel_plot(df, num=2)\n",
    "plt.savefig('orig.png')"
   ]
  },
  {
   "cell_type": "markdown",
   "metadata": {},
   "source": [
    "The normalized data."
   ]
  },
  {
   "cell_type": "code",
   "execution_count": null,
   "metadata": {
    "collapsed": true
   },
   "outputs": [],
   "source": [
    "df_norm = (df - df.mean()) / (df.max() - df.min())\n",
    "df_norm.fillna(0.)\n",
    "parallel_plot(df_norm, num=3)\n",
    "plt.savefig('norm.png')"
   ]
  },
  {
   "cell_type": "markdown",
   "metadata": {},
   "source": [
    "And the standardized data."
   ]
  },
  {
   "cell_type": "code",
   "execution_count": null,
   "metadata": {
    "collapsed": true
   },
   "outputs": [],
   "source": [
    "df_std = (df - df.mean()) / df.std()\n",
    "df_std.fillna(0.)\n",
    "parallel_plot(df_std, num=4)\n",
    "plt.savefig('std.png')"
   ]
  },
  {
   "cell_type": "markdown",
   "metadata": {},
   "source": [
    "## Predictions <a name=\"predictions\"></a>\n",
    "[(Back to top)](#head)\n",
    "\n",
    "We can now try predictions with ridge regression to start. This clearly performs very well with this data. Based on these results, it is unlikely that you would consider moving to more complex models."
   ]
  },
  {
   "cell_type": "code",
   "execution_count": null,
   "metadata": {
    "collapsed": true
   },
   "outputs": [],
   "source": [
    "# Set up the ridge regression function.\n",
    "rr = RidgeRegression(W2=None, Vh=None, cv='loocv')\n",
    "b = rr.find_optimal_regularization(X=train_features, Y=train_targets)\n",
    "coef = rr.RR(X=train_features, Y=train_targets, omega2=b)[0]\n",
    "\n",
    "# Test the model.\n",
    "sumd = 0.\n",
    "err = []\n",
    "pred = []\n",
    "for tf, tt in zip(test_features, test_targets):\n",
    "    p = np.dot(coef, tf)\n",
    "    pred.append(p)\n",
    "    sumd += (p - tt) ** 2\n",
    "    e = ((p - tt) ** 2) ** 0.5\n",
    "    err.append(e)\n",
    "error = (sumd / len(test_features)) ** 0.5\n",
    "\n",
    "print(error)\n",
    "\n",
    "plt.figure(5)\n",
    "plt.figure(figsize=(30, 15))\n",
    "plt.plot(test_targets, pred, 'o', c='b', alpha=0.5)\n",
    "plt.savefig('ridge_regression.png')"
   ]
  },
  {
   "cell_type": "markdown",
   "metadata": {},
   "source": [
    "However, for the purposes of this tutorial, we then train a Gaussian processes regression model to test. In this case, we set up a kernel dictionary that has both the squared exponential and linear kernels. The initial parameters defined in the kernel aren't so important at this stage as they are all optimized when the model is trained."
   ]
  },
  {
   "cell_type": "code",
   "execution_count": null,
   "metadata": {
    "collapsed": true
   },
   "outputs": [],
   "source": [
    "kdict = [{'type': 'gaussian', 'width': 1., 'scaling': 1., 'dimension': 'single'}\n",
    "         ]\n",
    "gp = GaussianProcess(train_fp=train_features, train_target=train_targets,\n",
    "                     kernel_list=kdict, regularization=1e-2,\n",
    "                     optimize_hyperparameters=True, scale_data=True)\n",
    "\n",
    "pred = gp.predict(test_fp=test_features)\n",
    "\n",
    "error = get_error(pred['prediction'],\n",
    "                  test_targets)['rmse_average']\n",
    "\n",
    "print(error)\n",
    "\n",
    "plt.figure(6)\n",
    "plt.figure(figsize=(30, 15))\n",
    "plt.plot(test_targets, pred['prediction'], 'o', c='r', alpha=0.5)\n",
    "plt.savefig('gaussian_process.png')"
   ]
  },
  {
   "cell_type": "markdown",
   "metadata": {},
   "source": [
    "Here we see that the Gaussian process performs slightly worse than the simple ridge regression model. This is to be expected when we are trying to model linear data with a non-linear model. However, the inclusion of the linear kernel results in a good prediction error. If the squared exponential kernel were to be removed from the above example, the resulting model would be the same as the ridge regression model, just trained with the Gaussian process.\n",
    "\n",
    "## Cross-validation <a name=\"cross-validation\"></a>\n",
    "[(Back to top)](#head)\n",
    "\n",
    "We can use the hierarchy cross-validation module to investigate how the model performs with different data sizes. In the following, we set up a prediction function. As the ridge regression function performs well, we just redefine this. The prediction function should take in the training and testing data and return a dictionary in the form `{'result': list, 'size': list}`."
   ]
  },
  {
   "cell_type": "code",
   "execution_count": null,
   "metadata": {
    "collapsed": true
   },
   "outputs": [],
   "source": [
    "def rr_predict(train_features, train_targets, test_features, test_targets):\n",
    "    \"\"\"Function to perform the RR predictions.\"\"\"\n",
    "    data = {}\n",
    "\n",
    "    # Set up the ridge regression function.\n",
    "    rr = RidgeRegression(W2=None, Vh=None, cv='loocv')\n",
    "    b = rr.find_optimal_regularization(X=train_features, Y=train_targets)\n",
    "    coef = rr.RR(X=train_features, Y=train_targets, omega2=b)[0]\n",
    "\n",
    "    # Test the model.\n",
    "    sumd = 0.\n",
    "    err = []\n",
    "    for tf, tt in zip(test_features, test_targets):\n",
    "        p = np.dot(coef, tf)\n",
    "        sumd += (p - tt) ** 2\n",
    "        e = ((p - tt) ** 2) ** 0.5\n",
    "        err.append(e)\n",
    "    error = (sumd / len(test_features)) ** 0.5\n",
    "\n",
    "    data['result'] = error\n",
    "    data['size'] = len(train_targets)\n",
    "\n",
    "    return data"
   ]
  },
  {
   "cell_type": "markdown",
   "metadata": {},
   "source": [
    "We then run the cv and display the resulting learning curve."
   ]
  },
  {
   "cell_type": "code",
   "execution_count": null,
   "metadata": {
    "collapsed": true
   },
   "outputs": [],
   "source": [
    "features = np.concatenate((train_features, test_features), axis=0)\n",
    "\n",
    "# Initialize hierarchy cv class.\n",
    "hv = Hierarchy(db_name='test.sqlite', file_name='hierarchy')\n",
    "# Convert features and targets to simple db format.\n",
    "hv.todb(features=features, targets=targets)\n",
    "# Split the data into subsets.\n",
    "ind = hv.split_index(min_split=200, max_split=5000)\n",
    "\n",
    "# Make the predictions for each subset.\n",
    "pred = hv.split_predict(index_split=ind, predict=rr_predict)\n",
    "\n",
    "# Get mean error at each data size.\n",
    "means, meane = hv.transform_output(pred)\n",
    "\n",
    "# Plot the results.\n",
    "plt.figure(num=7, figsize=(30, 15))\n",
    "plt.plot(pred[1], pred[0], 'o', c='g', alpha=0.5)\n",
    "plt.plot(means, meane, '-', alpha=0.9, c='black')\n",
    "plt.savefig('learning_curve.png')"
   ]
  },
  {
   "cell_type": "markdown",
   "metadata": {},
   "source": [
    "Finally, the output is removed."
   ]
  },
  {
   "cell_type": "code",
   "execution_count": null,
   "metadata": {
    "collapsed": true
   },
   "outputs": [],
   "source": [
    "os.remove('hierarchy.pickle')\n",
    "os.remove('test.sqlite')\n",
    "\n",
    "# Removing plots\n",
    "os.remove('gaussian_process.png')\n",
    "os.remove('learning_curve.png')\n",
    "os.remove('norm.png')\n",
    "os.remove('orig.png')\n",
    "os.remove('ridge_regression.png')\n",
    "os.remove('std.png')\n",
    "os.remove('test_features.png')\n",
    "os.remove('train_features.png')"
   ]
  },
  {
   "cell_type": "code",
   "execution_count": null,
   "metadata": {},
   "outputs": [],
   "source": [
    "plt.show()"
   ]
  }
 ],
 "metadata": {
  "kernelspec": {
   "display_name": "Python 3",
   "language": "python",
   "name": "python3"
  },
  "language_info": {
   "codemirror_mode": {
    "name": "ipython",
    "version": 3
   },
   "file_extension": ".py",
   "mimetype": "text/x-python",
   "name": "python",
   "nbconvert_exporter": "python",
   "pygments_lexer": "ipython3",
   "version": "3.6.4"
  }
 },
 "nbformat": 4,
 "nbformat_minor": 2
}
