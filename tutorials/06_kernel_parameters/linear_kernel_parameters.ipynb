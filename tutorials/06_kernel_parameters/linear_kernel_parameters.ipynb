{
 "cells": [
  {
   "cell_type": "markdown",
   "metadata": {},
   "source": [
    "# Linear Kernel Parameterization <a name=\"head\"></a>\n",
    "\n",
    "This is a tutorial to give an indication of how the linear kernels works. A Gaussian process will be trained on a toy function and parameters explicitly varied to give a clear indication of their impact on the predicted function. The data is generated randomly, it may be beneficial to run through the notebook a number of times to see how the data generation impacts the predicted function.\n",
    "\n",
    "The linear kernel is defined as follows:\n",
    "\n",
    "$$\n",
    "k(x,x')=\\sigma^2_b + \\sigma^2_v \\left( x-c \\right) \\left( x'−c \\right)\n",
    "$$\n",
    "\n",
    "Where $x$ and $x'$ are feature vectors, $\\sigma_b$ defines a scaling factor on the descriptor and $\\sigma_v$ the scaling on the variance and $c$ a constant.\n",
    "\n",
    "## Table of Contents\n",
    "[(Back to top)](#head)\n",
    "\n",
    "-   [Data Setup](#data-setup)\n",
    "-   [Constant parameter](#constant-parameter)\n",
    "-   [Descriptor scaling parameter](#descriptor-scaling-parameter)\n",
    "-   [Variance scaling parameter](#variance-scaling-parameter)\n",
    "-   [Hyperparameter optimization](#hyperparameter-optimization)\n",
    "-   [Conclusions](#conclusions)\n",
    "\n",
    "## Data Setup <a name=\"data-setup\"></a>\n",
    "[(Back to top)](#head)\n",
    "\n",
    "First, we define the necessary imports for the tutorial."
   ]
  },
  {
   "cell_type": "code",
   "execution_count": null,
   "metadata": {},
   "outputs": [],
   "source": [
    "%matplotlib inline\n",
    "\n",
    "import numpy as np\n",
    "import matplotlib.pyplot as plt\n",
    "\n",
    "from catlearn.regression import GaussianProcess\n",
    "from catlearn.regression.cost_function import get_error"
   ]
  },
  {
   "cell_type": "markdown",
   "metadata": {},
   "source": [
    "We can set up a 2D-function to model with the following function."
   ]
  },
  {
   "cell_type": "code",
   "execution_count": null,
   "metadata": {},
   "outputs": [],
   "source": [
    "def afunc(x):\n",
    "    \"\"\"Define some polynomial function.\"\"\"\n",
    "    y = x - 50.\n",
    "    p = (y + 4) * (y + 4) * (y + 1) * (y - 1) * (y - 3.5) * (y - 2) * (y - 1)\n",
    "    p += 40. * y + 80. * np.sin(10. * x)\n",
    "    return 1. / 20. * p + 500"
   ]
  },
  {
   "cell_type": "markdown",
   "metadata": {},
   "source": [
    "We can also define a plotting function at this stage."
   ]
  },
  {
   "cell_type": "code",
   "execution_count": null,
   "metadata": {},
   "outputs": [],
   "source": [
    "def plot(sub, prediction):\n",
    "    \"\"\"Plotting function.\"\"\"\n",
    "    ax = fig.add_subplot(sub)\n",
    "    ax.plot(linex, liney, '-', lw=1, color='black')\n",
    "    ax.plot(train, target, 'o', alpha=0.5, color='black')\n",
    "    ax.plot(test, prediction, 'r-', lw=1, alpha=0.8)\n",
    "    plt.xlabel('Descriptor')\n",
    "    plt.ylabel('Response')\n",
    "    plt.axis('tight')"
   ]
  },
  {
   "cell_type": "markdown",
   "metadata": {},
   "source": [
    "And then generate some training and testing data. Training the Gaussian process is performed with 17 data points, and a small amount of noise added. A far greater number of test data points are defined (513) in total. This provides a smooth predicted function so we can more clearly see what is happening with the predictions with a decent amount of detail."
   ]
  },
  {
   "cell_type": "code",
   "execution_count": null,
   "metadata": {},
   "outputs": [],
   "source": [
    "# A number of training points in x.\n",
    "train_points = 17\n",
    "noise_magnitude = 1.\n",
    "\n",
    "# Randomly generate the training datapoints x.\n",
    "train = 7.6 * np.random.sample((train_points, 1)) - 4.2 + 50\n",
    "# Each element in the list train can be referred to as a fingerprint.\n",
    "# Call the underlying function to produce the target values.\n",
    "target = np.array(afunc(train))\n",
    "\n",
    "# Add random noise from a normal distribution to the target values.\n",
    "target += noise_magnitude * np.random.randn(train_points, 1)\n",
    "\n",
    "# Generate test datapoints x.\n",
    "test_points = 513\n",
    "test = np.vstack(np.linspace(np.min(train)-0.1, np.max(train)+0.1,\n",
    "                             test_points))\n",
    "\n",
    "# Store the known underlying function for plotting.\n",
    "linex = np.linspace(np.min(test), np.max(test), test_points)\n",
    "liney = afunc(linex)"
   ]
  },
  {
   "cell_type": "markdown",
   "metadata": {},
   "source": [
    "## Scaling parameter <a name=\"constant-parameter\"></a>\n",
    "[(Back to top)](#head)\n",
    "\n",
    "The scaling parameter $\\sigma_v$ is varied in the following. We choose a range of values in the range of `[1., 1e-2, 1e-4, 1e-6]`, iterate over them and plot the predictions from the resulting model. It is seen that as the scaling parameter is decreased, the slope on the predictions also decreases. For the smallest scaling parameter of `1e-6`, there is essentially zero slope and the Gaussian process simply predicts the mean of the data."
   ]
  },
  {
   "cell_type": "code",
   "execution_count": null,
   "metadata": {},
   "outputs": [],
   "source": [
    "fig = plt.figure(figsize=(20, 10))\n",
    "\n",
    "for w, p in zip([1., 1e-2, 1e-4, 1e-6], [141, 142, 143, 144]):\n",
    "    kdict = {'k1': {'type': 'linear', 'scaling': w}}\n",
    "    # Set up the prediction routine.\n",
    "    gp = GaussianProcess(kernel_dict=kdict, regularization=1e-3,\n",
    "                         train_fp=train,\n",
    "                         train_target=target,\n",
    "                         optimize_hyperparameters=False, scale_data=True)\n",
    "    # Do predictions.\n",
    "    fit = gp.predict(test_fp=test, uncertainty=True)\n",
    "\n",
    "    # Get average errors.\n",
    "    error = get_error(fit['prediction'], afunc(test))\n",
    "    print('Gaussian regression error with {0} width: {1:.3f}'.format(\n",
    "        w, error['absolute_average']))\n",
    "\n",
    "    # Plotting.\n",
    "    plot(p, fit['prediction'])"
   ]
  },
  {
   "cell_type": "markdown",
   "metadata": {},
   "source": [
    "## Regularization parameter <a name=\"constant-parameter\"></a>\n",
    "[(Back to top)](#head)\n",
    "\n",
    "The regularization parameter is varied within the range of `[1., 1e-1, 1e-2, 1e-3]`. Here we find that for larger values the model will under-fit. This will essentially result in the mean of the data being returned across the range of test values. When the regularization parameter gets small enough, it will have little impact on the model predictions as it will be smaller than the noise on the data."
   ]
  },
  {
   "cell_type": "code",
   "execution_count": null,
   "metadata": {},
   "outputs": [],
   "source": [
    "fig = plt.figure(figsize=(20, 10))\n",
    "\n",
    "for r, p in zip([1., 1e-1, 1e-2, 1e-3], [141, 142, 143, 144]):\n",
    "    kdict = {'k1': {'type': 'linear', 'scaling': 1e-2}}\n",
    "    # Set up the prediction routine.\n",
    "    gp = GaussianProcess(kernel_dict=kdict, regularization=r,\n",
    "                         train_fp=train,\n",
    "                         train_target=target,\n",
    "                         optimize_hyperparameters=False, scale_data=True)\n",
    "    # Do predictions.\n",
    "    fit = gp.predict(test_fp=test)\n",
    "\n",
    "    # Get average errors.\n",
    "    error = get_error(fit['prediction'], afunc(test))\n",
    "    print('Gaussian regression error with {0} width: {1:.3f}'.format(\n",
    "        w, error['absolute_average']))\n",
    "\n",
    "    # Plotting.\n",
    "    plot(p, fit['prediction'])"
   ]
  },
  {
   "cell_type": "markdown",
   "metadata": {},
   "source": [
    "## Constant parameter <a name=\"constant-parameter\"></a>\n",
    "[(Back to top)](#head)\n",
    "\n",
    "The constant parameter $\\sigma_b$ is added as a second kernel. We test values in the range of `[1e-6, 0., 1e2, 1e6]`, however, this parameter has no impact on the predictions for this data."
   ]
  },
  {
   "cell_type": "code",
   "execution_count": null,
   "metadata": {},
   "outputs": [],
   "source": [
    "fig = plt.figure(figsize=(20, 10))\n",
    "\n",
    "for c, p in zip([1e-6, 0., 1e2, 1e6], [141, 142, 143, 144]):\n",
    "    kdict = {'k1': {'type': 'linear', 'scaling': 1e-2},\n",
    "             'k2': {'type': 'constant', 'const': c}\n",
    "            }\n",
    "    # Set up the prediction routine.\n",
    "    gp = GaussianProcess(kernel_dict=kdict, regularization=1e-3,\n",
    "                         train_fp=train,\n",
    "                         train_target=target,\n",
    "                         optimize_hyperparameters=False, scale_data=True)\n",
    "    # Do predictions.\n",
    "    fit = gp.predict(test_fp=test)\n",
    "\n",
    "    # Get average errors.\n",
    "    error = get_error(fit['prediction'], afunc(test))\n",
    "    print('Gaussian regression error with {0} width: {1:.3f}'.format(\n",
    "        w, error['absolute_average']))\n",
    "\n",
    "    # Plotting.\n",
    "    plot(p, fit['prediction'])"
   ]
  },
  {
   "cell_type": "markdown",
   "metadata": {},
   "source": [
    "## Hyperparameter optimization <a name=\"conclusions\"></a>\n",
    "[(Back to top)](#head)\n",
    "\n",
    "This is really just to give a sense of the impact of changing the parameters on the prediction. In reality, we will use some automated hyperparameter optimization. This optimization is performed in the following resulting in what should be an optimal Gaussian process for the data available. In this case, the log-marginal likelihood is used to find a balance between over and under-fitting. Thus, the Gaussian process trained with the optimized hyperparameters may not give the smallest error."
   ]
  },
  {
   "cell_type": "code",
   "execution_count": null,
   "metadata": {},
   "outputs": [],
   "source": [
    "fig = plt.figure(figsize=(20, 10))\n",
    "\n",
    "kdict = {'k1': {'type': 'linear', 'scaling': 1e-2},\n",
    "         'k2': {'type': 'constant', 'const': 1.}\n",
    "        }\n",
    "# Set up the prediction routine.\n",
    "gp = GaussianProcess(kernel_dict=kdict, regularization=1e-3,\n",
    "                     train_fp=train,\n",
    "                     train_target=target,\n",
    "                     optimize_hyperparameters=True, scale_data=True)\n",
    "# Do predictions.\n",
    "fit = gp.predict(test_fp=test)\n",
    "\n",
    "# Get average errors.\n",
    "error = get_error(fit['prediction'], afunc(test))\n",
    "print('Gaussian regression error: {0:.3f}'.format(\n",
    "    error['absolute_average']))\n",
    "\n",
    "# Plotting.\n",
    "plot(p, fit['prediction'])\n",
    "\n",
    "print('Optimized scale: {0:.3f}'.format(gp.kernel_dict['k1']['scaling']))\n",
    "print('Optimized constant: {0:.3f}'.format(gp.kernel_dict['k2']['const']))\n",
    "print('Optimized regularization: {0:.3f}'.format(gp.regularization))"
   ]
  },
  {
   "cell_type": "markdown",
   "metadata": {},
   "source": [
    "## Conclusions <a name=\"conclusions\"></a>\n",
    "[(Back to top)](#head)\n",
    "\n",
    "In this case, the scaling and regularization parameters are particularly important. The addition of the constant kernel has no affect on the accuracy of the model."
   ]
  }
 ],
 "metadata": {
  "kernelspec": {
   "display_name": "Python 3",
   "language": "python",
   "name": "python3"
  },
  "language_info": {
   "codemirror_mode": {
    "name": "ipython",
    "version": 3
   },
   "file_extension": ".py",
   "mimetype": "text/x-python",
   "name": "python",
   "nbconvert_exporter": "python",
   "pygments_lexer": "ipython3",
   "version": "3.6.4"
  }
 },
 "nbformat": 4,
 "nbformat_minor": 2
}
