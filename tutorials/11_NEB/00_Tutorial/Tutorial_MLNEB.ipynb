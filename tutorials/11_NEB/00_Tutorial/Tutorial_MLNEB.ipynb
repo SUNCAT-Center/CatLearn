{
 "cells": [
  {
   "cell_type": "markdown",
   "metadata": {},
   "source": [
    "# Tutorial machine learning NEB algorithm (ML-NEB)."
   ]
  },
  {
   "cell_type": "markdown",
   "metadata": {},
   "source": [
    "This tutorial is meant to be used to familiarized yourself with the machine learning algorithm ML-NEB."
   ]
  },
  {
   "cell_type": "markdown",
   "metadata": {},
   "source": [
    "## 0. Important notes:\n",
    "\n",
    "When running ML-NEB, the user must feed an ASE (e.g. VASP, EMT, CASTEP, QE,...) calculator to the \"MLNEB\" class.\n",
    "This calculator must contain the same flags as when performing a single-point calculation.\n",
    "\n",
    "For instance, when using the Vasp calculator one must set:"
   ]
  },
  {
   "cell_type": "markdown",
   "metadata": {},
   "source": [
    "    nsw=0"
   ]
  },
  {
   "cell_type": "markdown",
   "metadata": {},
   "source": [
    "when using Quantum Espresso one must set:"
   ]
  },
  {
   "cell_type": "markdown",
   "metadata": {},
   "source": [
    "    calculation='scf' "
   ]
  },
  {
   "cell_type": "markdown",
   "metadata": {},
   "source": [
    "when using ase-espresso:"
   ]
  },
  {
   "cell_type": "markdown",
   "metadata": {},
   "source": [
    "    mode='scf'"
   ]
  },
  {
   "cell_type": "markdown",
   "metadata": {},
   "source": [
    "## 1. How to run ML-NEB."
   ]
  },
  {
   "cell_type": "markdown",
   "metadata": {},
   "source": [
    "For this example we will build the Atoms structures for the initial and final end-points of our NEB calculation.\n",
    "\n",
    "First, we will start by setting up an ASE calculator. In this case, we will use the EMT() potential as implemented in ASE:"
   ]
  },
  {
   "cell_type": "code",
   "execution_count": null,
   "metadata": {},
   "outputs": [],
   "source": [
    "from ase.calculators.emt import EMT\n",
    "\n",
    "ase_calculator = EMT()"
   ]
  },
  {
   "cell_type": "markdown",
   "metadata": {},
   "source": [
    "We will create a 2$\\times$2-Al(100) slab in which we will add an Al adatom on top of the surface:"
   ]
  },
  {
   "cell_type": "code",
   "execution_count": null,
   "metadata": {},
   "outputs": [],
   "source": [
    "from ase.build import fcc100, add_adsorbate\n",
    "from ase.constraints import FixAtoms\n",
    "\n",
    "\n",
    "# 2x2-Al(001) surface with 3 layers and an\n",
    "# Au atom adsorbed in a hollow site:\n",
    "slab = fcc100('Al', size=(2, 2, 3))\n",
    "add_adsorbate(slab, 'Au', 1.7, 'hollow')\n",
    "slab.center(axis=2, vacuum=4.0)\n",
    "\n",
    "# Fix second and third layers:\n",
    "mask = [atom.tag > 1 for atom in slab]\n",
    "slab.set_constraint(FixAtoms(mask=mask))"
   ]
  },
  {
   "cell_type": "markdown",
   "metadata": {},
   "source": [
    "Then, we will append the ASE calculator to the Atoms object:"
   ]
  },
  {
   "cell_type": "code",
   "execution_count": null,
   "metadata": {},
   "outputs": [],
   "source": [
    "slab.set_calculator(ase_calculator)"
   ]
  },
  {
   "cell_type": "markdown",
   "metadata": {},
   "source": [
    "And we will carry out the optimization of the initial and final end-points:"
   ]
  },
  {
   "cell_type": "code",
   "execution_count": null,
   "metadata": {},
   "outputs": [],
   "source": [
    "from ase.optimize import BFGS\n",
    "\n",
    "# Initial end-point:\n",
    "qn = BFGS(slab, trajectory='initial.traj')\n",
    "qn.run(fmax=0.01)\n",
    "\n",
    "# Final end-point:\n",
    "slab[-1].x += slab.get_cell()[0, 0] / 2\n",
    "qn = BFGS(slab, trajectory='final.traj')\n",
    "qn.run(fmax=0.01)"
   ]
  },
  {
   "cell_type": "markdown",
   "metadata": {},
   "source": [
    "The trajectory files containing the optimized structures (\"initial.traj\" and \"final.traj\") will be used in our ML-NEB calculation as the starting positions for the NEB."
   ]
  },
  {
   "cell_type": "markdown",
   "metadata": {},
   "source": [
    "You can select the number of images for the ML-NEB as an integer (e.g. 11 images) or alternately, you can automatically select the number of initial images deciding the spacing between them (in Angstrom). This is done by introducing a float (e.g. 0.2) in \"n_images\".\n",
    "Running ML-NEB might take a few seconds..."
   ]
  },
  {
   "cell_type": "code",
   "execution_count": null,
   "metadata": {
    "scrolled": true
   },
   "outputs": [],
   "source": [
    "from catlearn.optimize.mlneb import MLNEB\n",
    "\n",
    "neb_catlearn = MLNEB(start='initial.traj', # Initial end-point.\n",
    "                     end='final.traj', # Final end-point.\n",
    "                     ase_calc=ase_calculator, # Calculator, it must be the same as the one used for the optimizations.\n",
    "                     n_images=7, # Number of images (interger or float, see above).\n",
    "                     interpolation='idpp', # Choose between linear or idpp interpolation (as implemented in ASE).\n",
    "                     restart=False)\n",
    "neb_catlearn.run(fmax=0.05, trajectory='ML-NEB.traj')"
   ]
  },
  {
   "cell_type": "markdown",
   "metadata": {},
   "source": [
    "Congratulations, your ML-NEB is converged. Now we will proceed to analyze the output of this run..."
   ]
  },
  {
   "cell_type": "markdown",
   "metadata": {},
   "source": [
    "----------------------------------"
   ]
  },
  {
   "cell_type": "markdown",
   "metadata": {},
   "source": [
    "------------------------------"
   ]
  },
  {
   "cell_type": "markdown",
   "metadata": {},
   "source": [
    "## 2. Plot ML-NEB results.\n"
   ]
  },
  {
   "cell_type": "markdown",
   "metadata": {},
   "source": [
    "In order to plot the predicted path we can use the results stored in the files \"results_neb.csv\" and \"results_neb_interpolation.csv\". These files contains the position of the images with respect to the length of the band and their corresponding energies and uncertainties."
   ]
  },
  {
   "cell_type": "markdown",
   "metadata": {},
   "source": [
    "To plot the converged path one can use our tool \"plotneb\" as:"
   ]
  },
  {
   "cell_type": "code",
   "execution_count": null,
   "metadata": {},
   "outputs": [],
   "source": [
    "from catlearn.optimize.tools import plotneb\n",
    "plotneb(trajectory='ML-NEB.traj', view_path=True)"
   ]
  },
  {
   "cell_type": "markdown",
   "metadata": {},
   "source": [
    "---------------------------"
   ]
  },
  {
   "cell_type": "markdown",
   "metadata": {},
   "source": [
    "----------------------------"
   ]
  },
  {
   "cell_type": "markdown",
   "metadata": {},
   "source": [
    "-----------------------------------"
   ]
  },
  {
   "cell_type": "markdown",
   "metadata": {},
   "source": [
    "## 3. Restarting ML-NEB."
   ]
  },
  {
   "cell_type": "markdown",
   "metadata": {},
   "source": [
    "Restarting a NEB calculation is not a tedious process anymore (WOOHOO!). \n",
    "Let's imagine that our ML-NEB has not converged. This is common ocurrence when using computer clusters and computationally demanding calculations. In this example, the calculation will not converged because the number of iterations will exceed the maximum number of steps (here maximum steps is set to 5)."
   ]
  },
  {
   "cell_type": "code",
   "execution_count": null,
   "metadata": {
    "scrolled": true
   },
   "outputs": [],
   "source": [
    "neb_catlearn = MLNEB(start='initial.traj', # Initial end-point.\n",
    "                     end='final.traj', # Final end-point.\n",
    "                     ase_calc=ase_calculator, # Calculator, it must be the same as the one used for the optimizations.\n",
    "                     n_images=7, # Number of images (interger or float, see above).\n",
    "                     interpolation='idpp',\n",
    "                     restart=False # Choose between linear or idpp interpolation (as implemented in ASE).\n",
    "                    )\n",
    "neb_catlearn.run(fmax=0.05, trajectory='ML-NEB.traj', steps=5)"
   ]
  },
  {
   "cell_type": "markdown",
   "metadata": {},
   "source": [
    "When using ML-NEB the most important file is the \"evaluated_structures.traj\" file. \n",
    "This file contains all the Atoms structures evaluated in each iteration.\n",
    "In order to restart the ML-NEB calculation from the last iteration make sure you run the calculation in the same folder than the one containing the \"evaluated_structures.traj\".\n",
    "Then, select \"restart=True\" in the MLNEB class:        "
   ]
  },
  {
   "cell_type": "code",
   "execution_count": null,
   "metadata": {
    "scrolled": true
   },
   "outputs": [],
   "source": [
    "neb_catlearn = MLNEB(start='initial.traj', # Initial end-point.\n",
    "                     end='final.traj', # Final end-point.\n",
    "                     ase_calc=ase_calculator, # Calculator, it must be the same as the one used for the optimizations.\n",
    "                     n_images=7, # Number of images (interger or float, see above).\n",
    "                     interpolation='idpp', # Choose between linear or idpp interpolation (as implemented in ASE).\n",
    "                     restart=True)\n",
    "neb_catlearn.run(fmax=0.05, trajectory='ML-NEB.traj')"
   ]
  },
  {
   "cell_type": "markdown",
   "metadata": {},
   "source": [
    "We can also change the number of images, increase the convergence criteria and re-run (restart) the calculation."
   ]
  },
  {
   "cell_type": "code",
   "execution_count": null,
   "metadata": {
    "scrolled": true
   },
   "outputs": [],
   "source": [
    "neb_catlearn = MLNEB(start='initial.traj', # Initial end-point.\n",
    "                     end='final.traj', # Final end-point.\n",
    "                     ase_calc=ase_calculator, # Calculator, it must be the same as the one used for the optimizations.\n",
    "                     n_images=21, # Number of images (interger or float, see above).\n",
    "                     interpolation='idpp', # Choose between linear or idpp interpolation (as implemented in ASE).\n",
    "                     restart=True)\n",
    "neb_catlearn.run(fmax=0.02, unc_convergence=0.025, trajectory='ML-NEB.traj')\n"
   ]
  },
  {
   "cell_type": "code",
   "execution_count": null,
   "metadata": {},
   "outputs": [],
   "source": [
    "plotneb(trajectory='ML-NEB.traj', view_path=True)"
   ]
  }
 ],
 "metadata": {
  "kernelspec": {
   "display_name": "Python 3",
   "language": "python",
   "name": "python3"
  },
  "language_info": {
   "codemirror_mode": {
    "name": "ipython",
    "version": 3
   },
   "file_extension": ".py",
   "mimetype": "text/x-python",
   "name": "python",
   "nbconvert_exporter": "python",
   "pygments_lexer": "ipython3",
   "version": "3.7.0"
  }
 },
 "nbformat": 4,
 "nbformat_minor": 2
}
